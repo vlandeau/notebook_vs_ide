{
 "cells": [
  {
   "cell_type": "code",
   "execution_count": 1,
   "id": "atmospheric-mustang",
   "metadata": {
    "ExecuteTime": {
     "end_time": "2022-06-14T21:58:05.969639Z",
     "start_time": "2022-06-14T21:58:05.962779Z"
    }
   },
   "outputs": [],
   "source": [
    "# This will import code from the refactored project\n",
    "import os.path\n",
    "import sys\n",
    "\n",
    "python_dir = os.path.abspath('..')\n",
    "sys.path.append(python_dir)"
   ]
  },
  {
   "cell_type": "code",
   "execution_count": 2,
   "id": "dried-windsor",
   "metadata": {
    "ExecuteTime": {
     "end_time": "2022-06-14T21:58:05.973715Z",
     "start_time": "2022-06-14T21:58:05.971672Z"
    }
   },
   "outputs": [],
   "source": [
    "WORK_DIR = '../../workdir'"
   ]
  },
  {
   "cell_type": "markdown",
   "id": "martial-retail",
   "metadata": {},
   "source": [
    "# Load raw data for schema discovery"
   ]
  },
  {
   "cell_type": "markdown",
   "id": "previous-villa",
   "metadata": {},
   "source": [
    "## Load data"
   ]
  },
  {
   "cell_type": "code",
   "execution_count": 3,
   "id": "multiple-wallpaper",
   "metadata": {
    "ExecuteTime": {
     "end_time": "2022-06-14T21:58:06.362438Z",
     "start_time": "2022-06-14T21:58:05.975991Z"
    }
   },
   "outputs": [
    {
     "name": "stderr",
     "output_type": "stream",
     "text": [
      "/Users/victorlandeau/Library/Caches/pypoetry/virtualenvs/bootcamp-2021-01-JvUDATpG-py3.7/lib/python3.7/site-packages/pandas/compat/__init__.py:85: UserWarning: Could not import the lzma module. Your installed Python is incomplete. Attempting to use lzma compression will result in a RuntimeError.\n",
      "  warnings.warn(msg)\n",
      "/Users/victorlandeau/Library/Caches/pypoetry/virtualenvs/bootcamp-2021-01-JvUDATpG-py3.7/lib/python3.7/site-packages/pandas/compat/__init__.py:85: UserWarning: Could not import the lzma module. Your installed Python is incomplete. Attempting to use lzma compression will result in a RuntimeError.\n",
      "  warnings.warn(msg)\n"
     ]
    }
   ],
   "source": [
    "from pilotis_io.local import LocalIoApi, LocalPandasApi\n",
    "from pilotis_io.directory_structure import dataset_raw_dir_path"
   ]
  },
  {
   "cell_type": "code",
   "execution_count": 4,
   "id": "european-montreal",
   "metadata": {
    "ExecuteTime": {
     "end_time": "2022-06-14T21:58:06.367368Z",
     "start_time": "2022-06-14T21:58:06.364770Z"
    }
   },
   "outputs": [],
   "source": [
    "io_api = LocalIoApi(WORK_DIR)\n",
    "pandas_api = LocalPandasApi(io_api)"
   ]
  },
  {
   "cell_type": "code",
   "execution_count": 5,
   "id": "worst-registration",
   "metadata": {
    "ExecuteTime": {
     "end_time": "2022-06-14T21:58:06.371897Z",
     "start_time": "2022-06-14T21:58:06.369119Z"
    }
   },
   "outputs": [],
   "source": [
    "dataset_version = '2013-10'\n",
    "\n",
    "acq_name = 'datahoarder_acquisition'\n",
    "acq_path = dataset_raw_dir_path(acq_name, dataset_version)\n",
    "\n",
    "rounds_name = 'datahoarder_rounds'\n",
    "rounds_path = dataset_raw_dir_path(rounds_name, dataset_version)\n",
    "\n",
    "invest_name = 'datahoarder_investment'\n",
    "invest_path = dataset_raw_dir_path(invest_name, dataset_version)"
   ]
  },
  {
   "cell_type": "code",
   "execution_count": 6,
   "id": "aerial-measurement",
   "metadata": {
    "ExecuteTime": {
     "end_time": "2022-06-14T21:58:06.376242Z",
     "start_time": "2022-06-14T21:58:06.373378Z"
    }
   },
   "outputs": [],
   "source": [
    "acq_files = io_api.list_files_in_dir(acq_path)\n",
    "rounds_files = io_api.list_files_in_dir(rounds_path)\n",
    "invest_files = io_api.list_files_in_dir(invest_path)"
   ]
  },
  {
   "cell_type": "code",
   "execution_count": 7,
   "id": "bound-scanning",
   "metadata": {
    "ExecuteTime": {
     "end_time": "2022-06-14T21:58:06.705836Z",
     "start_time": "2022-06-14T21:58:06.378040Z"
    }
   },
   "outputs": [
    {
     "name": "stderr",
     "output_type": "stream",
     "text": [
      "/Users/victorlandeau/Library/Caches/pypoetry/virtualenvs/bootcamp-2021-01-JvUDATpG-py3.7/lib/python3.7/site-packages/ipykernel_launcher.py:3: DtypeWarning: Columns (9) have mixed types. Specify dtype option on import or set low_memory=False.\n",
      "  This is separate from the ipykernel package so we can avoid doing imports until\n"
     ]
    }
   ],
   "source": [
    "acq = pandas_api.load_pandas_dataset(acq_files, encoding='unicode_escape')\n",
    "rounds = pandas_api.load_pandas_dataset(rounds_files, encoding='unicode_escape')\n",
    "invest = pandas_api.load_pandas_dataset(invest_files, encoding='unicode_escape')"
   ]
  },
  {
   "cell_type": "markdown",
   "id": "determined-grocery",
   "metadata": {},
   "source": [
    "## Explore data"
   ]
  },
  {
   "cell_type": "code",
   "execution_count": 8,
   "id": "supposed-advancement",
   "metadata": {
    "ExecuteTime": {
     "end_time": "2022-06-14T21:58:06.730987Z",
     "start_time": "2022-06-14T21:58:06.707528Z"
    }
   },
   "outputs": [
    {
     "data": {
      "text/html": [
       "<div>\n",
       "<style scoped>\n",
       "    .dataframe tbody tr th:only-of-type {\n",
       "        vertical-align: middle;\n",
       "    }\n",
       "\n",
       "    .dataframe tbody tr th {\n",
       "        vertical-align: top;\n",
       "    }\n",
       "\n",
       "    .dataframe thead th {\n",
       "        text-align: right;\n",
       "    }\n",
       "</style>\n",
       "<table border=\"1\" class=\"dataframe\">\n",
       "  <thead>\n",
       "    <tr style=\"text-align: right;\">\n",
       "      <th></th>\n",
       "      <th>company_permalink</th>\n",
       "      <th>company_name</th>\n",
       "      <th>company_category_code</th>\n",
       "      <th>company_country_code</th>\n",
       "      <th>company_state_code</th>\n",
       "      <th>company_region</th>\n",
       "      <th>company_city</th>\n",
       "      <th>acquirer_permalink</th>\n",
       "      <th>acquirer_name</th>\n",
       "      <th>acquirer_category_code</th>\n",
       "      <th>acquirer_country_code</th>\n",
       "      <th>acquirer_state_code</th>\n",
       "      <th>acquirer_region</th>\n",
       "      <th>acquirer_city</th>\n",
       "      <th>acquired_at</th>\n",
       "      <th>acquired_month</th>\n",
       "      <th>acquired_quarter</th>\n",
       "      <th>acquired_year</th>\n",
       "      <th>price_amount</th>\n",
       "      <th>price_currency_code</th>\n",
       "    </tr>\n",
       "  </thead>\n",
       "  <tbody>\n",
       "    <tr>\n",
       "      <th>0</th>\n",
       "      <td>/company/1000memories</td>\n",
       "      <td>1000memories</td>\n",
       "      <td>web</td>\n",
       "      <td>USA</td>\n",
       "      <td>CA</td>\n",
       "      <td>SF Bay</td>\n",
       "      <td>San Francisco</td>\n",
       "      <td>/company/ancestry-com</td>\n",
       "      <td>Ancestry</td>\n",
       "      <td>ecommerce</td>\n",
       "      <td>USA</td>\n",
       "      <td>UT</td>\n",
       "      <td>Salt Lake City</td>\n",
       "      <td>Provo</td>\n",
       "      <td>2012-10-03</td>\n",
       "      <td>2012-10</td>\n",
       "      <td>2012-Q4</td>\n",
       "      <td>2012.0</td>\n",
       "      <td>NaN</td>\n",
       "      <td>USD</td>\n",
       "    </tr>\n",
       "    <tr>\n",
       "      <th>1</th>\n",
       "      <td>/company/100plus</td>\n",
       "      <td>100Plus</td>\n",
       "      <td>analytics</td>\n",
       "      <td>USA</td>\n",
       "      <td>CA</td>\n",
       "      <td>SF Bay</td>\n",
       "      <td>San Francisco</td>\n",
       "      <td>/company/practice-fusion</td>\n",
       "      <td>Practice Fusion</td>\n",
       "      <td>health</td>\n",
       "      <td>USA</td>\n",
       "      <td>CA</td>\n",
       "      <td>SF Bay</td>\n",
       "      <td>San Francisco</td>\n",
       "      <td>2013-02-27</td>\n",
       "      <td>2013-02</td>\n",
       "      <td>2013-Q1</td>\n",
       "      <td>2013.0</td>\n",
       "      <td>NaN</td>\n",
       "      <td>USD</td>\n",
       "    </tr>\n",
       "    <tr>\n",
       "      <th>2</th>\n",
       "      <td>/company/10best</td>\n",
       "      <td>10best</td>\n",
       "      <td>web</td>\n",
       "      <td>USA</td>\n",
       "      <td>SC</td>\n",
       "      <td>Greenville</td>\n",
       "      <td>Greenville</td>\n",
       "      <td>/company/nile-guide</td>\n",
       "      <td>NileGuide</td>\n",
       "      <td>travel</td>\n",
       "      <td>USA</td>\n",
       "      <td>CA</td>\n",
       "      <td>SF Bay</td>\n",
       "      <td>San Francisco</td>\n",
       "      <td>2011-01-25</td>\n",
       "      <td>2011-01</td>\n",
       "      <td>2011-Q1</td>\n",
       "      <td>2011.0</td>\n",
       "      <td>NaN</td>\n",
       "      <td>USD</td>\n",
       "    </tr>\n",
       "    <tr>\n",
       "      <th>3</th>\n",
       "      <td>/company/10east</td>\n",
       "      <td>10East</td>\n",
       "      <td>network_hosting</td>\n",
       "      <td>USA</td>\n",
       "      <td>FL</td>\n",
       "      <td>Jacksonville</td>\n",
       "      <td>Jacksonville</td>\n",
       "      <td>/company/railcar-management</td>\n",
       "      <td>Railcar Management</td>\n",
       "      <td>enterprise</td>\n",
       "      <td>NaN</td>\n",
       "      <td>NaN</td>\n",
       "      <td>unknown</td>\n",
       "      <td>NaN</td>\n",
       "      <td>2009-04-14</td>\n",
       "      <td>2009-04</td>\n",
       "      <td>2009-Q2</td>\n",
       "      <td>2009.0</td>\n",
       "      <td>NaN</td>\n",
       "      <td>USD</td>\n",
       "    </tr>\n",
       "    <tr>\n",
       "      <th>4</th>\n",
       "      <td>/company/12society</td>\n",
       "      <td>12Society</td>\n",
       "      <td>ecommerce</td>\n",
       "      <td>USA</td>\n",
       "      <td>CA</td>\n",
       "      <td>Los Angeles</td>\n",
       "      <td>West Hollywood</td>\n",
       "      <td>/company/quarterly</td>\n",
       "      <td>Quarterly</td>\n",
       "      <td>web</td>\n",
       "      <td>USA</td>\n",
       "      <td>CA</td>\n",
       "      <td>Los Angeles</td>\n",
       "      <td>West Hollywood</td>\n",
       "      <td>2013-07-03</td>\n",
       "      <td>2013-07</td>\n",
       "      <td>2013-Q3</td>\n",
       "      <td>2013.0</td>\n",
       "      <td>NaN</td>\n",
       "      <td>USD</td>\n",
       "    </tr>\n",
       "  </tbody>\n",
       "</table>\n",
       "</div>"
      ],
      "text/plain": [
       "       company_permalink  company_name company_category_code  \\\n",
       "0  /company/1000memories  1000memories                   web   \n",
       "1       /company/100plus       100Plus             analytics   \n",
       "2        /company/10best        10best                   web   \n",
       "3        /company/10east        10East       network_hosting   \n",
       "4     /company/12society     12Society             ecommerce   \n",
       "\n",
       "  company_country_code company_state_code company_region    company_city  \\\n",
       "0                  USA                 CA         SF Bay   San Francisco   \n",
       "1                  USA                 CA         SF Bay   San Francisco   \n",
       "2                  USA                 SC     Greenville      Greenville   \n",
       "3                  USA                 FL   Jacksonville    Jacksonville   \n",
       "4                  USA                 CA    Los Angeles  West Hollywood   \n",
       "\n",
       "            acquirer_permalink       acquirer_name acquirer_category_code  \\\n",
       "0        /company/ancestry-com            Ancestry              ecommerce   \n",
       "1     /company/practice-fusion     Practice Fusion                 health   \n",
       "2          /company/nile-guide           NileGuide                 travel   \n",
       "3  /company/railcar-management  Railcar Management             enterprise   \n",
       "4           /company/quarterly           Quarterly                    web   \n",
       "\n",
       "  acquirer_country_code acquirer_state_code acquirer_region   acquirer_city  \\\n",
       "0                   USA                  UT  Salt Lake City           Provo   \n",
       "1                   USA                  CA          SF Bay   San Francisco   \n",
       "2                   USA                  CA          SF Bay   San Francisco   \n",
       "3                   NaN                 NaN         unknown             NaN   \n",
       "4                   USA                  CA     Los Angeles  West Hollywood   \n",
       "\n",
       "  acquired_at acquired_month acquired_quarter  acquired_year  price_amount  \\\n",
       "0  2012-10-03        2012-10          2012-Q4         2012.0           NaN   \n",
       "1  2013-02-27        2013-02          2013-Q1         2013.0           NaN   \n",
       "2  2011-01-25        2011-01          2011-Q1         2011.0           NaN   \n",
       "3  2009-04-14        2009-04          2009-Q2         2009.0           NaN   \n",
       "4  2013-07-03        2013-07          2013-Q3         2013.0           NaN   \n",
       "\n",
       "  price_currency_code  \n",
       "0                 USD  \n",
       "1                 USD  \n",
       "2                 USD  \n",
       "3                 USD  \n",
       "4                 USD  "
      ]
     },
     "execution_count": 8,
     "metadata": {},
     "output_type": "execute_result"
    }
   ],
   "source": [
    "acq.head()"
   ]
  },
  {
   "cell_type": "code",
   "execution_count": 9,
   "id": "fourth-works",
   "metadata": {
    "ExecuteTime": {
     "end_time": "2022-06-14T21:58:06.746700Z",
     "start_time": "2022-06-14T21:58:06.734821Z"
    }
   },
   "outputs": [
    {
     "data": {
      "text/html": [
       "<div>\n",
       "<style scoped>\n",
       "    .dataframe tbody tr th:only-of-type {\n",
       "        vertical-align: middle;\n",
       "    }\n",
       "\n",
       "    .dataframe tbody tr th {\n",
       "        vertical-align: top;\n",
       "    }\n",
       "\n",
       "    .dataframe thead th {\n",
       "        text-align: right;\n",
       "    }\n",
       "</style>\n",
       "<table border=\"1\" class=\"dataframe\">\n",
       "  <thead>\n",
       "    <tr style=\"text-align: right;\">\n",
       "      <th></th>\n",
       "      <th>company_permalink</th>\n",
       "      <th>company_name</th>\n",
       "      <th>company_category_code</th>\n",
       "      <th>company_country_code</th>\n",
       "      <th>company_state_code</th>\n",
       "      <th>company_region</th>\n",
       "      <th>company_city</th>\n",
       "      <th>funding_round_type</th>\n",
       "      <th>funded_at</th>\n",
       "      <th>funded_month</th>\n",
       "      <th>funded_quarter</th>\n",
       "      <th>funded_year</th>\n",
       "      <th>raised_amount_usd</th>\n",
       "    </tr>\n",
       "  </thead>\n",
       "  <tbody>\n",
       "    <tr>\n",
       "      <th>0</th>\n",
       "      <td>/company/waywire</td>\n",
       "      <td>#waywire</td>\n",
       "      <td>news</td>\n",
       "      <td>USA</td>\n",
       "      <td>NY</td>\n",
       "      <td>New York</td>\n",
       "      <td>New York</td>\n",
       "      <td>series-a</td>\n",
       "      <td>2012-06-30</td>\n",
       "      <td>2012-06</td>\n",
       "      <td>2012-Q2</td>\n",
       "      <td>2012</td>\n",
       "      <td>1750000.0</td>\n",
       "    </tr>\n",
       "    <tr>\n",
       "      <th>1</th>\n",
       "      <td>/company/n-plusn</td>\n",
       "      <td>#NAME?</td>\n",
       "      <td>software</td>\n",
       "      <td>USA</td>\n",
       "      <td>NY</td>\n",
       "      <td>New York</td>\n",
       "      <td>New York</td>\n",
       "      <td>angel</td>\n",
       "      <td>2012-08-29</td>\n",
       "      <td>2012-08</td>\n",
       "      <td>2012-Q3</td>\n",
       "      <td>2012</td>\n",
       "      <td>600000.0</td>\n",
       "    </tr>\n",
       "    <tr>\n",
       "      <th>2</th>\n",
       "      <td>/company/club-domains</td>\n",
       "      <td>.Club Domains</td>\n",
       "      <td>software</td>\n",
       "      <td>USA</td>\n",
       "      <td>FL</td>\n",
       "      <td>Fort Lauderdale</td>\n",
       "      <td>Oakland Park</td>\n",
       "      <td>series-b</td>\n",
       "      <td>2013-05-31</td>\n",
       "      <td>2013-05</td>\n",
       "      <td>2013-Q2</td>\n",
       "      <td>2013</td>\n",
       "      <td>7000000.0</td>\n",
       "    </tr>\n",
       "    <tr>\n",
       "      <th>3</th>\n",
       "      <td>/company/0xdata</td>\n",
       "      <td>0xdata</td>\n",
       "      <td>analytics</td>\n",
       "      <td>USA</td>\n",
       "      <td>CA</td>\n",
       "      <td>SF Bay</td>\n",
       "      <td>Mountain View</td>\n",
       "      <td>venture</td>\n",
       "      <td>2013-01-03</td>\n",
       "      <td>2013-01</td>\n",
       "      <td>2013-Q1</td>\n",
       "      <td>2013</td>\n",
       "      <td>1700000.0</td>\n",
       "    </tr>\n",
       "    <tr>\n",
       "      <th>4</th>\n",
       "      <td>/company/1-800-dentist</td>\n",
       "      <td>1-800-DENTIST</td>\n",
       "      <td>health</td>\n",
       "      <td>USA</td>\n",
       "      <td>CA</td>\n",
       "      <td>Los Angeles</td>\n",
       "      <td>Los Angeles</td>\n",
       "      <td>venture</td>\n",
       "      <td>2010-08-19</td>\n",
       "      <td>2010-08</td>\n",
       "      <td>2010-Q3</td>\n",
       "      <td>2010</td>\n",
       "      <td>NaN</td>\n",
       "    </tr>\n",
       "  </tbody>\n",
       "</table>\n",
       "</div>"
      ],
      "text/plain": [
       "        company_permalink   company_name company_category_code  \\\n",
       "0        /company/waywire       #waywire                  news   \n",
       "1        /company/n-plusn         #NAME?              software   \n",
       "2   /company/club-domains  .Club Domains              software   \n",
       "3         /company/0xdata         0xdata             analytics   \n",
       "4  /company/1-800-dentist  1-800-DENTIST                health   \n",
       "\n",
       "  company_country_code company_state_code   company_region   company_city  \\\n",
       "0                  USA                 NY         New York       New York   \n",
       "1                  USA                 NY         New York       New York   \n",
       "2                  USA                 FL  Fort Lauderdale   Oakland Park   \n",
       "3                  USA                 CA           SF Bay  Mountain View   \n",
       "4                  USA                 CA      Los Angeles    Los Angeles   \n",
       "\n",
       "  funding_round_type   funded_at funded_month funded_quarter  funded_year  \\\n",
       "0           series-a  2012-06-30      2012-06        2012-Q2         2012   \n",
       "1              angel  2012-08-29      2012-08        2012-Q3         2012   \n",
       "2           series-b  2013-05-31      2013-05        2013-Q2         2013   \n",
       "3            venture  2013-01-03      2013-01        2013-Q1         2013   \n",
       "4            venture  2010-08-19      2010-08        2010-Q3         2010   \n",
       "\n",
       "   raised_amount_usd  \n",
       "0          1750000.0  \n",
       "1           600000.0  \n",
       "2          7000000.0  \n",
       "3          1700000.0  \n",
       "4                NaN  "
      ]
     },
     "execution_count": 9,
     "metadata": {},
     "output_type": "execute_result"
    }
   ],
   "source": [
    "rounds.head()"
   ]
  },
  {
   "cell_type": "code",
   "execution_count": 10,
   "id": "dense-commodity",
   "metadata": {
    "ExecuteTime": {
     "end_time": "2022-06-14T21:58:06.752338Z",
     "start_time": "2022-06-14T21:58:06.749327Z"
    }
   },
   "outputs": [
    {
     "data": {
      "text/plain": [
       "31679"
      ]
     },
     "execution_count": 10,
     "metadata": {},
     "output_type": "execute_result"
    }
   ],
   "source": [
    "len(rounds)"
   ]
  },
  {
   "cell_type": "code",
   "execution_count": 11,
   "id": "adverse-neighborhood",
   "metadata": {
    "ExecuteTime": {
     "end_time": "2022-06-14T21:58:06.763433Z",
     "start_time": "2022-06-14T21:58:06.753927Z"
    }
   },
   "outputs": [
    {
     "data": {
      "text/plain": [
       "17622"
      ]
     },
     "execution_count": 11,
     "metadata": {},
     "output_type": "execute_result"
    }
   ],
   "source": [
    "len(rounds[['company_name']].drop_duplicates())"
   ]
  },
  {
   "cell_type": "code",
   "execution_count": 12,
   "id": "decreased-activation",
   "metadata": {
    "ExecuteTime": {
     "end_time": "2022-06-14T21:58:06.775765Z",
     "start_time": "2022-06-14T21:58:06.765067Z"
    }
   },
   "outputs": [],
   "source": [
    "all_unique_rounds = rounds[['company_name', 'funded_at']].drop_duplicates()"
   ]
  },
  {
   "cell_type": "code",
   "execution_count": 13,
   "id": "buried-sculpture",
   "metadata": {
    "ExecuteTime": {
     "end_time": "2022-06-14T21:58:06.793338Z",
     "start_time": "2022-06-14T21:58:06.777181Z"
    }
   },
   "outputs": [
    {
     "data": {
      "text/html": [
       "<div>\n",
       "<style scoped>\n",
       "    .dataframe tbody tr th:only-of-type {\n",
       "        vertical-align: middle;\n",
       "    }\n",
       "\n",
       "    .dataframe tbody tr th {\n",
       "        vertical-align: top;\n",
       "    }\n",
       "\n",
       "    .dataframe thead th {\n",
       "        text-align: right;\n",
       "    }\n",
       "</style>\n",
       "<table border=\"1\" class=\"dataframe\">\n",
       "  <thead>\n",
       "    <tr style=\"text-align: right;\">\n",
       "      <th></th>\n",
       "      <th>company_permalink</th>\n",
       "      <th>company_name</th>\n",
       "      <th>company_category_code</th>\n",
       "      <th>company_country_code</th>\n",
       "      <th>company_state_code</th>\n",
       "      <th>company_region</th>\n",
       "      <th>company_city</th>\n",
       "      <th>investor_permalink</th>\n",
       "      <th>investor_name</th>\n",
       "      <th>investor_category_code</th>\n",
       "      <th>investor_country_code</th>\n",
       "      <th>investor_state_code</th>\n",
       "      <th>investor_region</th>\n",
       "      <th>investor_city</th>\n",
       "      <th>funding_round_type</th>\n",
       "      <th>funded_at</th>\n",
       "      <th>funded_month</th>\n",
       "      <th>funded_quarter</th>\n",
       "      <th>funded_year</th>\n",
       "      <th>raised_amount_usd</th>\n",
       "    </tr>\n",
       "  </thead>\n",
       "  <tbody>\n",
       "    <tr>\n",
       "      <th>0</th>\n",
       "      <td>/company/advercar</td>\n",
       "      <td>AdverCar</td>\n",
       "      <td>advertising</td>\n",
       "      <td>USA</td>\n",
       "      <td>CA</td>\n",
       "      <td>SF Bay</td>\n",
       "      <td>San Francisco</td>\n",
       "      <td>/company/1-800-flowers-com</td>\n",
       "      <td>1-800-FLOWERS.COM</td>\n",
       "      <td>NaN</td>\n",
       "      <td>USA</td>\n",
       "      <td>NY</td>\n",
       "      <td>New York</td>\n",
       "      <td>New York</td>\n",
       "      <td>series-a</td>\n",
       "      <td>2012-10-30</td>\n",
       "      <td>2012-10</td>\n",
       "      <td>2012-Q4</td>\n",
       "      <td>2012.0</td>\n",
       "      <td>2000000.0</td>\n",
       "    </tr>\n",
       "    <tr>\n",
       "      <th>1</th>\n",
       "      <td>/company/launchgram</td>\n",
       "      <td>LaunchGram</td>\n",
       "      <td>news</td>\n",
       "      <td>USA</td>\n",
       "      <td>CA</td>\n",
       "      <td>SF Bay</td>\n",
       "      <td>Mountain View</td>\n",
       "      <td>/company/10xelerator</td>\n",
       "      <td>10Xelerator</td>\n",
       "      <td>finance</td>\n",
       "      <td>USA</td>\n",
       "      <td>OH</td>\n",
       "      <td>Columbus</td>\n",
       "      <td>Columbus</td>\n",
       "      <td>other</td>\n",
       "      <td>2012-01-23</td>\n",
       "      <td>2012-01</td>\n",
       "      <td>2012-Q1</td>\n",
       "      <td>2012.0</td>\n",
       "      <td>20000.0</td>\n",
       "    </tr>\n",
       "    <tr>\n",
       "      <th>2</th>\n",
       "      <td>/company/utap</td>\n",
       "      <td>uTaP</td>\n",
       "      <td>messaging</td>\n",
       "      <td>USA</td>\n",
       "      <td>NaN</td>\n",
       "      <td>United States - Other</td>\n",
       "      <td>NaN</td>\n",
       "      <td>/company/10xelerator</td>\n",
       "      <td>10Xelerator</td>\n",
       "      <td>finance</td>\n",
       "      <td>USA</td>\n",
       "      <td>OH</td>\n",
       "      <td>Columbus</td>\n",
       "      <td>Columbus</td>\n",
       "      <td>other</td>\n",
       "      <td>2012-01-01</td>\n",
       "      <td>2012-01</td>\n",
       "      <td>2012-Q1</td>\n",
       "      <td>2012.0</td>\n",
       "      <td>20000.0</td>\n",
       "    </tr>\n",
       "    <tr>\n",
       "      <th>3</th>\n",
       "      <td>/company/zoopshop</td>\n",
       "      <td>ZoopShop</td>\n",
       "      <td>software</td>\n",
       "      <td>USA</td>\n",
       "      <td>OH</td>\n",
       "      <td>Columbus</td>\n",
       "      <td>columbus</td>\n",
       "      <td>/company/10xelerator</td>\n",
       "      <td>10Xelerator</td>\n",
       "      <td>finance</td>\n",
       "      <td>USA</td>\n",
       "      <td>OH</td>\n",
       "      <td>Columbus</td>\n",
       "      <td>Columbus</td>\n",
       "      <td>angel</td>\n",
       "      <td>2012-02-15</td>\n",
       "      <td>2012-02</td>\n",
       "      <td>2012-Q1</td>\n",
       "      <td>2012.0</td>\n",
       "      <td>20000.0</td>\n",
       "    </tr>\n",
       "    <tr>\n",
       "      <th>4</th>\n",
       "      <td>/company/efuneral</td>\n",
       "      <td>eFuneral</td>\n",
       "      <td>web</td>\n",
       "      <td>USA</td>\n",
       "      <td>OH</td>\n",
       "      <td>Cleveland</td>\n",
       "      <td>Cleveland</td>\n",
       "      <td>/company/10xelerator</td>\n",
       "      <td>10Xelerator</td>\n",
       "      <td>finance</td>\n",
       "      <td>USA</td>\n",
       "      <td>OH</td>\n",
       "      <td>Columbus</td>\n",
       "      <td>Columbus</td>\n",
       "      <td>other</td>\n",
       "      <td>2011-09-08</td>\n",
       "      <td>2011-09</td>\n",
       "      <td>2011-Q3</td>\n",
       "      <td>2011.0</td>\n",
       "      <td>20000.0</td>\n",
       "    </tr>\n",
       "  </tbody>\n",
       "</table>\n",
       "</div>"
      ],
      "text/plain": [
       "     company_permalink company_name company_category_code  \\\n",
       "0    /company/advercar     AdverCar           advertising   \n",
       "1  /company/launchgram   LaunchGram                  news   \n",
       "2        /company/utap         uTaP             messaging   \n",
       "3    /company/zoopshop     ZoopShop              software   \n",
       "4    /company/efuneral     eFuneral                   web   \n",
       "\n",
       "  company_country_code company_state_code         company_region  \\\n",
       "0                  USA                 CA                 SF Bay   \n",
       "1                  USA                 CA                 SF Bay   \n",
       "2                  USA                NaN  United States - Other   \n",
       "3                  USA                 OH               Columbus   \n",
       "4                  USA                 OH              Cleveland   \n",
       "\n",
       "    company_city          investor_permalink      investor_name  \\\n",
       "0  San Francisco  /company/1-800-flowers-com  1-800-FLOWERS.COM   \n",
       "1  Mountain View        /company/10xelerator        10Xelerator   \n",
       "2            NaN        /company/10xelerator        10Xelerator   \n",
       "3       columbus        /company/10xelerator        10Xelerator   \n",
       "4      Cleveland        /company/10xelerator        10Xelerator   \n",
       "\n",
       "  investor_category_code investor_country_code investor_state_code  \\\n",
       "0                    NaN                   USA                  NY   \n",
       "1                finance                   USA                  OH   \n",
       "2                finance                   USA                  OH   \n",
       "3                finance                   USA                  OH   \n",
       "4                finance                   USA                  OH   \n",
       "\n",
       "  investor_region investor_city funding_round_type   funded_at funded_month  \\\n",
       "0        New York      New York           series-a  2012-10-30      2012-10   \n",
       "1        Columbus      Columbus              other  2012-01-23      2012-01   \n",
       "2        Columbus      Columbus              other  2012-01-01      2012-01   \n",
       "3        Columbus      Columbus              angel  2012-02-15      2012-02   \n",
       "4        Columbus      Columbus              other  2011-09-08      2011-09   \n",
       "\n",
       "  funded_quarter  funded_year  raised_amount_usd  \n",
       "0        2012-Q4       2012.0          2000000.0  \n",
       "1        2012-Q1       2012.0            20000.0  \n",
       "2        2012-Q1       2012.0            20000.0  \n",
       "3        2012-Q1       2012.0            20000.0  \n",
       "4        2011-Q3       2011.0            20000.0  "
      ]
     },
     "execution_count": 13,
     "metadata": {},
     "output_type": "execute_result"
    }
   ],
   "source": [
    "invest.head()"
   ]
  },
  {
   "cell_type": "code",
   "execution_count": 14,
   "id": "cultural-toddler",
   "metadata": {
    "ExecuteTime": {
     "end_time": "2022-06-14T21:58:06.797629Z",
     "start_time": "2022-06-14T21:58:06.794826Z"
    }
   },
   "outputs": [
    {
     "data": {
      "text/plain": [
       "52870"
      ]
     },
     "execution_count": 14,
     "metadata": {},
     "output_type": "execute_result"
    }
   ],
   "source": [
    "len(invest)"
   ]
  },
  {
   "cell_type": "code",
   "execution_count": 15,
   "id": "chicken-flexibility",
   "metadata": {
    "ExecuteTime": {
     "end_time": "2022-06-14T21:58:06.811085Z",
     "start_time": "2022-06-14T21:58:06.799523Z"
    }
   },
   "outputs": [
    {
     "data": {
      "text/plain": [
       "11574"
      ]
     },
     "execution_count": 15,
     "metadata": {},
     "output_type": "execute_result"
    }
   ],
   "source": [
    "len(invest[['company_name']].drop_duplicates())"
   ]
  },
  {
   "cell_type": "code",
   "execution_count": 16,
   "id": "allied-occupation",
   "metadata": {
    "ExecuteTime": {
     "end_time": "2022-06-14T21:58:06.829266Z",
     "start_time": "2022-06-14T21:58:06.812509Z"
    }
   },
   "outputs": [
    {
     "data": {
      "text/plain": [
       "19096"
      ]
     },
     "execution_count": 16,
     "metadata": {},
     "output_type": "execute_result"
    }
   ],
   "source": [
    "len(invest[['company_name', 'funded_at']].drop_duplicates())"
   ]
  },
  {
   "cell_type": "code",
   "execution_count": 17,
   "id": "respected-soviet",
   "metadata": {
    "ExecuteTime": {
     "end_time": "2022-06-14T21:58:06.846020Z",
     "start_time": "2022-06-14T21:58:06.830906Z"
    }
   },
   "outputs": [],
   "source": [
    "all_unique_invest = invest[['company_name', 'funded_at']].drop_duplicates()"
   ]
  },
  {
   "cell_type": "code",
   "execution_count": 18,
   "id": "subjective-ultimate",
   "metadata": {
    "ExecuteTime": {
     "end_time": "2022-06-14T21:58:07.082827Z",
     "start_time": "2022-06-14T21:58:06.847812Z"
    }
   },
   "outputs": [
    {
     "data": {
      "text/html": [
       "<div>\n",
       "<style scoped>\n",
       "    .dataframe tbody tr th:only-of-type {\n",
       "        vertical-align: middle;\n",
       "    }\n",
       "\n",
       "    .dataframe tbody tr th {\n",
       "        vertical-align: top;\n",
       "    }\n",
       "\n",
       "    .dataframe thead th {\n",
       "        text-align: right;\n",
       "    }\n",
       "</style>\n",
       "<table border=\"1\" class=\"dataframe\">\n",
       "  <thead>\n",
       "    <tr style=\"text-align: right;\">\n",
       "      <th></th>\n",
       "      <th></th>\n",
       "      <th>invest</th>\n",
       "      <th>rounds</th>\n",
       "    </tr>\n",
       "    <tr>\n",
       "      <th>company_name</th>\n",
       "      <th>funded_at</th>\n",
       "      <th></th>\n",
       "      <th></th>\n",
       "    </tr>\n",
       "  </thead>\n",
       "  <tbody>\n",
       "    <tr>\n",
       "      <th>#waywire</th>\n",
       "      <th>2012-06-30</th>\n",
       "      <td>1.0</td>\n",
       "      <td>1.0</td>\n",
       "    </tr>\n",
       "    <tr>\n",
       "      <th>0xdata</th>\n",
       "      <th>2013-01-03</th>\n",
       "      <td>1.0</td>\n",
       "      <td>1.0</td>\n",
       "    </tr>\n",
       "    <tr>\n",
       "      <th>1-800-DENTIST</th>\n",
       "      <th>2010-08-19</th>\n",
       "      <td>1.0</td>\n",
       "      <td>1.0</td>\n",
       "    </tr>\n",
       "    <tr>\n",
       "      <th rowspan=\"2\" valign=\"top\">1000memories</th>\n",
       "      <th>2010-01-01</th>\n",
       "      <td>1.0</td>\n",
       "      <td>1.0</td>\n",
       "    </tr>\n",
       "    <tr>\n",
       "      <th>2011-02-16</th>\n",
       "      <td>1.0</td>\n",
       "      <td>1.0</td>\n",
       "    </tr>\n",
       "    <tr>\n",
       "      <th>...</th>\n",
       "      <th>...</th>\n",
       "      <td>...</td>\n",
       "      <td>...</td>\n",
       "    </tr>\n",
       "    <tr>\n",
       "      <th>ZYOMYX</th>\n",
       "      <th>2013-07-11</th>\n",
       "      <td>NaN</td>\n",
       "      <td>1.0</td>\n",
       "    </tr>\n",
       "    <tr>\n",
       "      <th rowspan=\"2\" valign=\"top\">Zyrra</th>\n",
       "      <th>2010-12-15</th>\n",
       "      <td>NaN</td>\n",
       "      <td>1.0</td>\n",
       "    </tr>\n",
       "    <tr>\n",
       "      <th>2012-10-18</th>\n",
       "      <td>NaN</td>\n",
       "      <td>1.0</td>\n",
       "    </tr>\n",
       "    <tr>\n",
       "      <th>[x+1]</th>\n",
       "      <th>2009-08-17</th>\n",
       "      <td>NaN</td>\n",
       "      <td>1.0</td>\n",
       "    </tr>\n",
       "    <tr>\n",
       "      <th>_Shwrm</th>\n",
       "      <th>2013-01-01</th>\n",
       "      <td>NaN</td>\n",
       "      <td>1.0</td>\n",
       "    </tr>\n",
       "  </tbody>\n",
       "</table>\n",
       "<p>31409 rows × 2 columns</p>\n",
       "</div>"
      ],
      "text/plain": [
       "                          invest  rounds\n",
       "company_name  funded_at                 \n",
       "#waywire      2012-06-30     1.0     1.0\n",
       "0xdata        2013-01-03     1.0     1.0\n",
       "1-800-DENTIST 2010-08-19     1.0     1.0\n",
       "1000memories  2010-01-01     1.0     1.0\n",
       "              2011-02-16     1.0     1.0\n",
       "...                          ...     ...\n",
       "ZYOMYX        2013-07-11     NaN     1.0\n",
       "Zyrra         2010-12-15     NaN     1.0\n",
       "              2012-10-18     NaN     1.0\n",
       "[x+1]         2009-08-17     NaN     1.0\n",
       "_Shwrm       2013-01-01     NaN     1.0\n",
       "\n",
       "[31409 rows x 2 columns]"
      ]
     },
     "execution_count": 18,
     "metadata": {},
     "output_type": "execute_result"
    }
   ],
   "source": [
    "invest_and_rounds_joined = all_unique_invest \\\n",
    "    .set_index(['company_name', 'funded_at']) \\\n",
    "    .assign(invest=1) \\\n",
    "    .join(\n",
    "    all_unique_rounds \\\n",
    "        .set_index(['company_name', 'funded_at']) \\\n",
    "        .assign(rounds=1), how='outer')\n",
    "invest_and_rounds_joined"
   ]
  },
  {
   "cell_type": "code",
   "execution_count": 19,
   "id": "velvet-corruption",
   "metadata": {
    "ExecuteTime": {
     "end_time": "2022-06-14T21:58:07.090264Z",
     "start_time": "2022-06-14T21:58:07.084335Z"
    }
   },
   "outputs": [
    {
     "data": {
      "text/plain": [
       "invest    19269.0\n",
       "rounds    31406.0\n",
       "dtype: float64"
      ]
     },
     "execution_count": 19,
     "metadata": {},
     "output_type": "execute_result"
    }
   ],
   "source": [
    "invest_and_rounds_joined.sum()"
   ]
  },
  {
   "cell_type": "code",
   "execution_count": 20,
   "id": "secondary-truth",
   "metadata": {
    "ExecuteTime": {
     "end_time": "2022-06-14T21:58:07.094801Z",
     "start_time": "2022-06-14T21:58:07.091684Z"
    }
   },
   "outputs": [
    {
     "data": {
      "text/plain": [
       "31409"
      ]
     },
     "execution_count": 20,
     "metadata": {},
     "output_type": "execute_result"
    }
   ],
   "source": [
    "len(invest_and_rounds_joined)"
   ]
  },
  {
   "cell_type": "code",
   "execution_count": 21,
   "id": "higher-newsletter",
   "metadata": {
    "ExecuteTime": {
     "end_time": "2022-06-14T21:58:07.103067Z",
     "start_time": "2022-06-14T21:58:07.096473Z"
    }
   },
   "outputs": [
    {
     "data": {
      "text/plain": [
       "venture           7941\n",
       "angel             6644\n",
       "series-a          6523\n",
       "series-b          3460\n",
       "series-c+         3361\n",
       "other             2921\n",
       "private-equity     757\n",
       "post-ipo            42\n",
       "crowdfunding        30\n",
       "Name: funding_round_type, dtype: int64"
      ]
     },
     "execution_count": 21,
     "metadata": {},
     "output_type": "execute_result"
    }
   ],
   "source": [
    "rounds.funding_round_type.value_counts()"
   ]
  },
  {
   "cell_type": "code",
   "execution_count": 22,
   "id": "worth-festival",
   "metadata": {
    "ExecuteTime": {
     "end_time": "2022-06-14T21:58:07.113158Z",
     "start_time": "2022-06-14T21:58:07.104677Z"
    }
   },
   "outputs": [
    {
     "data": {
      "text/plain": [
       "series-a          13938\n",
       "series-c+         10870\n",
       "angel              8989\n",
       "venture            8917\n",
       "series-b           8794\n",
       "other               964\n",
       "private-equity      357\n",
       "post-ipo             33\n",
       "crowdfunding          5\n",
       "Name: funding_round_type, dtype: int64"
      ]
     },
     "execution_count": 22,
     "metadata": {},
     "output_type": "execute_result"
    }
   ],
   "source": [
    "invest.funding_round_type.value_counts()"
   ]
  },
  {
   "cell_type": "code",
   "execution_count": 23,
   "id": "valid-bridal",
   "metadata": {
    "ExecuteTime": {
     "end_time": "2022-06-14T21:58:07.160862Z",
     "start_time": "2022-06-14T21:58:07.114715Z"
    }
   },
   "outputs": [],
   "source": [
    "angels = invest[invest.funding_round_type == \"angel\"][[\"company_name\"]].drop_duplicates()\n",
    "seriesA = invest[invest.funding_round_type == \"series-a\"][[\"company_name\"]].drop_duplicates()\n",
    "seriesB = invest[invest.funding_round_type == \"series-b\"][[\"company_name\"]].drop_duplicates()\n",
    "seriesC = invest[invest.funding_round_type == \"series-c+\"][[\"company_name\"]].drop_duplicates()\n",
    "ventures = invest[invest.funding_round_type == \"venture\"][[\"company_name\"]].drop_duplicates()"
   ]
  },
  {
   "cell_type": "code",
   "execution_count": 24,
   "id": "combined-travel",
   "metadata": {
    "ExecuteTime": {
     "end_time": "2022-06-14T21:58:07.178890Z",
     "start_time": "2022-06-14T21:58:07.162742Z"
    }
   },
   "outputs": [
    {
     "data": {
      "text/plain": [
       "angel       2977.0\n",
       "seriesA      651.0\n",
       "seriesB      223.0\n",
       "seriesC       94.0\n",
       "ventures     183.0\n",
       "dtype: float64"
      ]
     },
     "execution_count": 24,
     "metadata": {},
     "output_type": "execute_result"
    }
   ],
   "source": [
    "angels.set_index(\"company_name\").assign(angel=1).join(\n",
    "    seriesA.set_index(\"company_name\").assign(seriesA=1),\n",
    "    how=\"left\").join(\n",
    "    seriesB.set_index(\"company_name\").assign(seriesB=1),\n",
    "    how=\"left\").join(\n",
    "    seriesC.set_index(\"company_name\").assign(seriesC=1),\n",
    "    how=\"left\").join(\n",
    "    ventures.set_index(\"company_name\").assign(ventures=1),\n",
    "    how=\"left\").sum()"
   ]
  },
  {
   "cell_type": "code",
   "execution_count": 25,
   "id": "generic-method",
   "metadata": {
    "ExecuteTime": {
     "end_time": "2022-06-14T21:58:07.183420Z",
     "start_time": "2022-06-14T21:58:07.180289Z"
    }
   },
   "outputs": [
    {
     "data": {
      "text/plain": [
       "0.21867651998656365"
      ]
     },
     "execution_count": 25,
     "metadata": {},
     "output_type": "execute_result"
    }
   ],
   "source": [
    "651 / 2977."
   ]
  },
  {
   "cell_type": "code",
   "execution_count": 26,
   "id": "enabling-jason",
   "metadata": {
    "ExecuteTime": {
     "end_time": "2022-06-14T21:58:07.199118Z",
     "start_time": "2022-06-14T21:58:07.184886Z"
    }
   },
   "outputs": [
    {
     "data": {
      "text/plain": [
       "seriesA     4590.0\n",
       "seriesB     1565.0\n",
       "seriesC      724.0\n",
       "ventures     578.0\n",
       "dtype: float64"
      ]
     },
     "execution_count": 26,
     "metadata": {},
     "output_type": "execute_result"
    }
   ],
   "source": [
    "seriesA.set_index(\"company_name\").assign(seriesA=1).join(\n",
    "    seriesB.set_index(\"company_name\").assign(seriesB=1),\n",
    "    how=\"left\").join(\n",
    "    seriesC.set_index(\"company_name\").assign(seriesC=1),\n",
    "    how=\"left\").join(\n",
    "    ventures.set_index(\"company_name\").assign(ventures=1),\n",
    "    how=\"left\").sum()"
   ]
  },
  {
   "cell_type": "code",
   "execution_count": 27,
   "id": "homeless-milton",
   "metadata": {
    "ExecuteTime": {
     "end_time": "2022-06-14T21:58:07.209299Z",
     "start_time": "2022-06-14T21:58:07.206506Z"
    }
   },
   "outputs": [
    {
     "data": {
      "text/plain": [
       "0.340958605664488"
      ]
     },
     "execution_count": 27,
     "metadata": {},
     "output_type": "execute_result"
    }
   ],
   "source": [
    "1565.0 / 4590.0"
   ]
  },
  {
   "cell_type": "code",
   "execution_count": null,
   "id": "going-increase",
   "metadata": {},
   "outputs": [],
   "source": []
  },
  {
   "cell_type": "code",
   "execution_count": 28,
   "id": "apart-mineral",
   "metadata": {
    "ExecuteTime": {
     "end_time": "2022-06-14T21:58:07.219260Z",
     "start_time": "2022-06-14T21:58:07.214340Z"
    }
   },
   "outputs": [
    {
     "data": {
      "text/html": [
       "<div>\n",
       "<style scoped>\n",
       "    .dataframe tbody tr th:only-of-type {\n",
       "        vertical-align: middle;\n",
       "    }\n",
       "\n",
       "    .dataframe tbody tr th {\n",
       "        vertical-align: top;\n",
       "    }\n",
       "\n",
       "    .dataframe thead th {\n",
       "        text-align: right;\n",
       "    }\n",
       "</style>\n",
       "<table border=\"1\" class=\"dataframe\">\n",
       "  <thead>\n",
       "    <tr style=\"text-align: right;\">\n",
       "      <th></th>\n",
       "      <th>company_name</th>\n",
       "    </tr>\n",
       "  </thead>\n",
       "  <tbody>\n",
       "    <tr>\n",
       "      <th>3</th>\n",
       "      <td>ZoopShop</td>\n",
       "    </tr>\n",
       "    <tr>\n",
       "      <th>6</th>\n",
       "      <td>Acclaimd</td>\n",
       "    </tr>\n",
       "    <tr>\n",
       "      <th>8</th>\n",
       "      <td>ToVieFor</td>\n",
       "    </tr>\n",
       "    <tr>\n",
       "      <th>9</th>\n",
       "      <td>OHK Labs</td>\n",
       "    </tr>\n",
       "    <tr>\n",
       "      <th>11</th>\n",
       "      <td>peerTransfer</td>\n",
       "    </tr>\n",
       "  </tbody>\n",
       "</table>\n",
       "</div>"
      ],
      "text/plain": [
       "    company_name\n",
       "3       ZoopShop\n",
       "6       Acclaimd\n",
       "8       ToVieFor\n",
       "9       OHK Labs\n",
       "11  peerTransfer"
      ]
     },
     "execution_count": 28,
     "metadata": {},
     "output_type": "execute_result"
    }
   ],
   "source": [
    "angels.head()"
   ]
  },
  {
   "cell_type": "code",
   "execution_count": null,
   "id": "desperate-sugar",
   "metadata": {},
   "outputs": [],
   "source": []
  },
  {
   "cell_type": "code",
   "execution_count": null,
   "id": "creative-caribbean",
   "metadata": {},
   "outputs": [],
   "source": []
  },
  {
   "cell_type": "code",
   "execution_count": 29,
   "id": "premium-damage",
   "metadata": {
    "ExecuteTime": {
     "end_time": "2022-06-14T21:58:07.240211Z",
     "start_time": "2022-06-14T21:58:07.220881Z"
    }
   },
   "outputs": [
    {
     "data": {
      "text/html": [
       "<div>\n",
       "<style scoped>\n",
       "    .dataframe tbody tr th:only-of-type {\n",
       "        vertical-align: middle;\n",
       "    }\n",
       "\n",
       "    .dataframe tbody tr th {\n",
       "        vertical-align: top;\n",
       "    }\n",
       "\n",
       "    .dataframe thead th {\n",
       "        text-align: right;\n",
       "    }\n",
       "</style>\n",
       "<table border=\"1\" class=\"dataframe\">\n",
       "  <thead>\n",
       "    <tr style=\"text-align: right;\">\n",
       "      <th></th>\n",
       "      <th>company_permalink</th>\n",
       "      <th>company_name</th>\n",
       "      <th>company_category_code</th>\n",
       "      <th>company_country_code</th>\n",
       "      <th>company_state_code</th>\n",
       "      <th>company_region</th>\n",
       "      <th>company_city</th>\n",
       "      <th>funding_round_type</th>\n",
       "      <th>funded_at</th>\n",
       "      <th>funded_month</th>\n",
       "      <th>funded_quarter</th>\n",
       "      <th>funded_year</th>\n",
       "      <th>raised_amount_usd</th>\n",
       "    </tr>\n",
       "  </thead>\n",
       "  <tbody>\n",
       "    <tr>\n",
       "      <th>1</th>\n",
       "      <td>/company/n-plusn</td>\n",
       "      <td>#NAME?</td>\n",
       "      <td>software</td>\n",
       "      <td>USA</td>\n",
       "      <td>NY</td>\n",
       "      <td>New York</td>\n",
       "      <td>New York</td>\n",
       "      <td>angel</td>\n",
       "      <td>2012-08-29</td>\n",
       "      <td>2012-08</td>\n",
       "      <td>2012-Q3</td>\n",
       "      <td>2012</td>\n",
       "      <td>600000.0</td>\n",
       "    </tr>\n",
       "    <tr>\n",
       "      <th>7</th>\n",
       "      <td>/company/1000memories</td>\n",
       "      <td>1000memories</td>\n",
       "      <td>web</td>\n",
       "      <td>USA</td>\n",
       "      <td>CA</td>\n",
       "      <td>SF Bay</td>\n",
       "      <td>San Francisco</td>\n",
       "      <td>angel</td>\n",
       "      <td>2010-01-01</td>\n",
       "      <td>2010-01</td>\n",
       "      <td>2010-Q1</td>\n",
       "      <td>2010</td>\n",
       "      <td>15000.0</td>\n",
       "    </tr>\n",
       "    <tr>\n",
       "      <th>12</th>\n",
       "      <td>/company/100plus</td>\n",
       "      <td>100Plus</td>\n",
       "      <td>analytics</td>\n",
       "      <td>USA</td>\n",
       "      <td>CA</td>\n",
       "      <td>SF Bay</td>\n",
       "      <td>San Francisco</td>\n",
       "      <td>angel</td>\n",
       "      <td>2011-11-30</td>\n",
       "      <td>2011-11</td>\n",
       "      <td>2011-Q4</td>\n",
       "      <td>2011</td>\n",
       "      <td>750000.0</td>\n",
       "    </tr>\n",
       "    <tr>\n",
       "      <th>14</th>\n",
       "      <td>/company/10bestthings</td>\n",
       "      <td>10BestThings</td>\n",
       "      <td>web</td>\n",
       "      <td>USA</td>\n",
       "      <td>OH</td>\n",
       "      <td>Cleveland</td>\n",
       "      <td>Cleveland</td>\n",
       "      <td>angel</td>\n",
       "      <td>2009-04-01</td>\n",
       "      <td>2009-04</td>\n",
       "      <td>2009-Q2</td>\n",
       "      <td>2009</td>\n",
       "      <td>50000.0</td>\n",
       "    </tr>\n",
       "    <tr>\n",
       "      <th>18</th>\n",
       "      <td>/company/121nexus</td>\n",
       "      <td>121nexus</td>\n",
       "      <td>software</td>\n",
       "      <td>USA</td>\n",
       "      <td>RI</td>\n",
       "      <td>Providence</td>\n",
       "      <td>Providence</td>\n",
       "      <td>angel</td>\n",
       "      <td>2012-02-06</td>\n",
       "      <td>2012-02</td>\n",
       "      <td>2012-Q1</td>\n",
       "      <td>2012</td>\n",
       "      <td>14000.0</td>\n",
       "    </tr>\n",
       "    <tr>\n",
       "      <th>...</th>\n",
       "      <td>...</td>\n",
       "      <td>...</td>\n",
       "      <td>...</td>\n",
       "      <td>...</td>\n",
       "      <td>...</td>\n",
       "      <td>...</td>\n",
       "      <td>...</td>\n",
       "      <td>...</td>\n",
       "      <td>...</td>\n",
       "      <td>...</td>\n",
       "      <td>...</td>\n",
       "      <td>...</td>\n",
       "      <td>...</td>\n",
       "    </tr>\n",
       "    <tr>\n",
       "      <th>31661</th>\n",
       "      <td>/company/zynga</td>\n",
       "      <td>Zynga</td>\n",
       "      <td>games_video</td>\n",
       "      <td>USA</td>\n",
       "      <td>CA</td>\n",
       "      <td>SF Bay</td>\n",
       "      <td>San Francisco</td>\n",
       "      <td>angel</td>\n",
       "      <td>2007-01-01</td>\n",
       "      <td>2007-01</td>\n",
       "      <td>2007-Q1</td>\n",
       "      <td>2007</td>\n",
       "      <td>NaN</td>\n",
       "    </tr>\n",
       "    <tr>\n",
       "      <th>31670</th>\n",
       "      <td>/company/zypsee</td>\n",
       "      <td>Zypsee</td>\n",
       "      <td>transportation</td>\n",
       "      <td>USA</td>\n",
       "      <td>CT</td>\n",
       "      <td>New York</td>\n",
       "      <td>Stamford</td>\n",
       "      <td>angel</td>\n",
       "      <td>2013-08-13</td>\n",
       "      <td>2013-08</td>\n",
       "      <td>2013-Q3</td>\n",
       "      <td>2013</td>\n",
       "      <td>1400000.0</td>\n",
       "    </tr>\n",
       "    <tr>\n",
       "      <th>31671</th>\n",
       "      <td>/company/zyrra</td>\n",
       "      <td>Zyrra</td>\n",
       "      <td>ecommerce</td>\n",
       "      <td>USA</td>\n",
       "      <td>MA</td>\n",
       "      <td>Boston</td>\n",
       "      <td>Cambridge</td>\n",
       "      <td>angel</td>\n",
       "      <td>2010-12-15</td>\n",
       "      <td>2010-12</td>\n",
       "      <td>2010-Q4</td>\n",
       "      <td>2010</td>\n",
       "      <td>875000.0</td>\n",
       "    </tr>\n",
       "    <tr>\n",
       "      <th>31672</th>\n",
       "      <td>/company/zyrra</td>\n",
       "      <td>Zyrra</td>\n",
       "      <td>ecommerce</td>\n",
       "      <td>USA</td>\n",
       "      <td>MA</td>\n",
       "      <td>Boston</td>\n",
       "      <td>Cambridge</td>\n",
       "      <td>angel</td>\n",
       "      <td>2010-11-15</td>\n",
       "      <td>2010-11</td>\n",
       "      <td>2010-Q4</td>\n",
       "      <td>2010</td>\n",
       "      <td>445000.0</td>\n",
       "    </tr>\n",
       "    <tr>\n",
       "      <th>31678</th>\n",
       "      <td>/company/shwrm</td>\n",
       "      <td>_Shwrm</td>\n",
       "      <td>software</td>\n",
       "      <td>USA</td>\n",
       "      <td>FL</td>\n",
       "      <td>Gainesville</td>\n",
       "      <td>Gainesville</td>\n",
       "      <td>angel</td>\n",
       "      <td>2013-01-01</td>\n",
       "      <td>2013-01</td>\n",
       "      <td>2013-Q1</td>\n",
       "      <td>2013</td>\n",
       "      <td>50000.0</td>\n",
       "    </tr>\n",
       "  </tbody>\n",
       "</table>\n",
       "<p>6644 rows × 13 columns</p>\n",
       "</div>"
      ],
      "text/plain": [
       "           company_permalink  company_name company_category_code  \\\n",
       "1           /company/n-plusn        #NAME?              software   \n",
       "7      /company/1000memories  1000memories                   web   \n",
       "12          /company/100plus       100Plus             analytics   \n",
       "14     /company/10bestthings  10BestThings                   web   \n",
       "18         /company/121nexus      121nexus              software   \n",
       "...                      ...           ...                   ...   \n",
       "31661         /company/zynga         Zynga           games_video   \n",
       "31670        /company/zypsee        Zypsee        transportation   \n",
       "31671         /company/zyrra         Zyrra             ecommerce   \n",
       "31672         /company/zyrra         Zyrra             ecommerce   \n",
       "31678         /company/shwrm       _Shwrm              software   \n",
       "\n",
       "      company_country_code company_state_code company_region   company_city  \\\n",
       "1                      USA                 NY       New York       New York   \n",
       "7                      USA                 CA         SF Bay  San Francisco   \n",
       "12                     USA                 CA         SF Bay  San Francisco   \n",
       "14                     USA                 OH      Cleveland      Cleveland   \n",
       "18                     USA                 RI     Providence     Providence   \n",
       "...                    ...                ...            ...            ...   \n",
       "31661                  USA                 CA         SF Bay  San Francisco   \n",
       "31670                  USA                 CT       New York       Stamford   \n",
       "31671                  USA                 MA         Boston      Cambridge   \n",
       "31672                  USA                 MA         Boston      Cambridge   \n",
       "31678                  USA                 FL    Gainesville    Gainesville   \n",
       "\n",
       "      funding_round_type   funded_at funded_month funded_quarter  funded_year  \\\n",
       "1                  angel  2012-08-29      2012-08        2012-Q3         2012   \n",
       "7                  angel  2010-01-01      2010-01        2010-Q1         2010   \n",
       "12                 angel  2011-11-30      2011-11        2011-Q4         2011   \n",
       "14                 angel  2009-04-01      2009-04        2009-Q2         2009   \n",
       "18                 angel  2012-02-06      2012-02        2012-Q1         2012   \n",
       "...                  ...         ...          ...            ...          ...   \n",
       "31661              angel  2007-01-01      2007-01        2007-Q1         2007   \n",
       "31670              angel  2013-08-13      2013-08        2013-Q3         2013   \n",
       "31671              angel  2010-12-15      2010-12        2010-Q4         2010   \n",
       "31672              angel  2010-11-15      2010-11        2010-Q4         2010   \n",
       "31678              angel  2013-01-01      2013-01        2013-Q1         2013   \n",
       "\n",
       "       raised_amount_usd  \n",
       "1               600000.0  \n",
       "7                15000.0  \n",
       "12              750000.0  \n",
       "14               50000.0  \n",
       "18               14000.0  \n",
       "...                  ...  \n",
       "31661                NaN  \n",
       "31670          1400000.0  \n",
       "31671           875000.0  \n",
       "31672           445000.0  \n",
       "31678            50000.0  \n",
       "\n",
       "[6644 rows x 13 columns]"
      ]
     },
     "execution_count": 29,
     "metadata": {},
     "output_type": "execute_result"
    }
   ],
   "source": [
    "rounds[rounds.funding_round_type == \"angel\"]"
   ]
  },
  {
   "cell_type": "code",
   "execution_count": 30,
   "id": "wrapped-ultimate",
   "metadata": {
    "ExecuteTime": {
     "end_time": "2022-06-14T21:58:07.251984Z",
     "start_time": "2022-06-14T21:58:07.241860Z"
    }
   },
   "outputs": [
    {
     "data": {
      "text/html": [
       "<div>\n",
       "<style scoped>\n",
       "    .dataframe tbody tr th:only-of-type {\n",
       "        vertical-align: middle;\n",
       "    }\n",
       "\n",
       "    .dataframe tbody tr th {\n",
       "        vertical-align: top;\n",
       "    }\n",
       "\n",
       "    .dataframe thead th {\n",
       "        text-align: right;\n",
       "    }\n",
       "</style>\n",
       "<table border=\"1\" class=\"dataframe\">\n",
       "  <thead>\n",
       "    <tr style=\"text-align: right;\">\n",
       "      <th></th>\n",
       "      <th>funding_round_type</th>\n",
       "      <th>raised_amount_usd</th>\n",
       "    </tr>\n",
       "    <tr>\n",
       "      <th>funded_at</th>\n",
       "      <th></th>\n",
       "      <th></th>\n",
       "    </tr>\n",
       "  </thead>\n",
       "  <tbody>\n",
       "    <tr>\n",
       "      <th>2007-01-01</th>\n",
       "      <td>angel</td>\n",
       "      <td>NaN</td>\n",
       "    </tr>\n",
       "    <tr>\n",
       "      <th>2008-01-01</th>\n",
       "      <td>series-a</td>\n",
       "      <td>10000000.0</td>\n",
       "    </tr>\n",
       "    <tr>\n",
       "      <th>2008-02-12</th>\n",
       "      <td>series-a</td>\n",
       "      <td>5026000.0</td>\n",
       "    </tr>\n",
       "    <tr>\n",
       "      <th>2008-07-18</th>\n",
       "      <td>series-b</td>\n",
       "      <td>25000000.0</td>\n",
       "    </tr>\n",
       "    <tr>\n",
       "      <th>2009-11-04</th>\n",
       "      <td>series-b</td>\n",
       "      <td>15187000.0</td>\n",
       "    </tr>\n",
       "    <tr>\n",
       "      <th>2010-04-24</th>\n",
       "      <td>series-b</td>\n",
       "      <td>15000000.0</td>\n",
       "    </tr>\n",
       "    <tr>\n",
       "      <th>2010-06-14</th>\n",
       "      <td>series-b</td>\n",
       "      <td>300000000.0</td>\n",
       "    </tr>\n",
       "    <tr>\n",
       "      <th>2011-02-18</th>\n",
       "      <td>series-c+</td>\n",
       "      <td>490000000.0</td>\n",
       "    </tr>\n",
       "  </tbody>\n",
       "</table>\n",
       "</div>"
      ],
      "text/plain": [
       "           funding_round_type  raised_amount_usd\n",
       "funded_at                                       \n",
       "2007-01-01              angel                NaN\n",
       "2008-01-01           series-a         10000000.0\n",
       "2008-02-12           series-a          5026000.0\n",
       "2008-07-18           series-b         25000000.0\n",
       "2009-11-04           series-b         15187000.0\n",
       "2010-04-24           series-b         15000000.0\n",
       "2010-06-14           series-b        300000000.0\n",
       "2011-02-18          series-c+        490000000.0"
      ]
     },
     "execution_count": 30,
     "metadata": {},
     "output_type": "execute_result"
    }
   ],
   "source": [
    "rounds[rounds.company_name == \"Zynga\"][[\"funding_round_type\", \"funded_at\", \"raised_amount_usd\"]].set_index(\n",
    "    \"funded_at\").sort_index()"
   ]
  },
  {
   "cell_type": "code",
   "execution_count": null,
   "id": "unlike-crystal",
   "metadata": {},
   "outputs": [],
   "source": []
  },
  {
   "cell_type": "code",
   "execution_count": 31,
   "id": "blond-ridge",
   "metadata": {
    "ExecuteTime": {
     "end_time": "2022-06-14T21:58:07.268708Z",
     "start_time": "2022-06-14T21:58:07.253817Z"
    }
   },
   "outputs": [
    {
     "data": {
      "text/html": [
       "<div>\n",
       "<style scoped>\n",
       "    .dataframe tbody tr th:only-of-type {\n",
       "        vertical-align: middle;\n",
       "    }\n",
       "\n",
       "    .dataframe tbody tr th {\n",
       "        vertical-align: top;\n",
       "    }\n",
       "\n",
       "    .dataframe thead th {\n",
       "        text-align: right;\n",
       "    }\n",
       "</style>\n",
       "<table border=\"1\" class=\"dataframe\">\n",
       "  <thead>\n",
       "    <tr style=\"text-align: right;\">\n",
       "      <th></th>\n",
       "      <th>funding_round_type</th>\n",
       "      <th>raised_amount_usd</th>\n",
       "      <th>investor_name</th>\n",
       "    </tr>\n",
       "    <tr>\n",
       "      <th>funded_at</th>\n",
       "      <th></th>\n",
       "      <th></th>\n",
       "      <th></th>\n",
       "    </tr>\n",
       "  </thead>\n",
       "  <tbody>\n",
       "    <tr>\n",
       "      <th>2007-01-01</th>\n",
       "      <td>angel</td>\n",
       "      <td>NaN</td>\n",
       "      <td>Reid Hoffman</td>\n",
       "    </tr>\n",
       "    <tr>\n",
       "      <th>2008-01-01</th>\n",
       "      <td>series-a</td>\n",
       "      <td>10000000.0</td>\n",
       "      <td>Union Square Ventures</td>\n",
       "    </tr>\n",
       "    <tr>\n",
       "      <th>2008-01-01</th>\n",
       "      <td>series-a</td>\n",
       "      <td>10000000.0</td>\n",
       "      <td>Bob Pittman</td>\n",
       "    </tr>\n",
       "    <tr>\n",
       "      <th>2008-01-01</th>\n",
       "      <td>series-a</td>\n",
       "      <td>10000000.0</td>\n",
       "      <td>SV Angel</td>\n",
       "    </tr>\n",
       "    <tr>\n",
       "      <th>2008-01-01</th>\n",
       "      <td>series-a</td>\n",
       "      <td>10000000.0</td>\n",
       "      <td>Brad Feld</td>\n",
       "    </tr>\n",
       "    <tr>\n",
       "      <th>2008-01-01</th>\n",
       "      <td>series-a</td>\n",
       "      <td>10000000.0</td>\n",
       "      <td>Pilot Group</td>\n",
       "    </tr>\n",
       "    <tr>\n",
       "      <th>2008-01-01</th>\n",
       "      <td>series-a</td>\n",
       "      <td>10000000.0</td>\n",
       "      <td>Reid Hoffman</td>\n",
       "    </tr>\n",
       "    <tr>\n",
       "      <th>2008-01-01</th>\n",
       "      <td>series-a</td>\n",
       "      <td>10000000.0</td>\n",
       "      <td>Foundry Group</td>\n",
       "    </tr>\n",
       "    <tr>\n",
       "      <th>2008-01-01</th>\n",
       "      <td>series-a</td>\n",
       "      <td>10000000.0</td>\n",
       "      <td>Andy Russell</td>\n",
       "    </tr>\n",
       "    <tr>\n",
       "      <th>2008-01-01</th>\n",
       "      <td>series-a</td>\n",
       "      <td>10000000.0</td>\n",
       "      <td>Clarium Capital</td>\n",
       "    </tr>\n",
       "    <tr>\n",
       "      <th>2008-01-01</th>\n",
       "      <td>series-a</td>\n",
       "      <td>10000000.0</td>\n",
       "      <td>Avalon Ventures</td>\n",
       "    </tr>\n",
       "    <tr>\n",
       "      <th>2008-01-01</th>\n",
       "      <td>series-a</td>\n",
       "      <td>10000000.0</td>\n",
       "      <td>Peter Thiel</td>\n",
       "    </tr>\n",
       "    <tr>\n",
       "      <th>2008-02-12</th>\n",
       "      <td>series-a</td>\n",
       "      <td>5026000.0</td>\n",
       "      <td>Foundry Group</td>\n",
       "    </tr>\n",
       "    <tr>\n",
       "      <th>2008-02-12</th>\n",
       "      <td>series-a</td>\n",
       "      <td>5026000.0</td>\n",
       "      <td>Union Square Ventures</td>\n",
       "    </tr>\n",
       "    <tr>\n",
       "      <th>2008-02-12</th>\n",
       "      <td>series-a</td>\n",
       "      <td>5026000.0</td>\n",
       "      <td>Avalon Ventures</td>\n",
       "    </tr>\n",
       "    <tr>\n",
       "      <th>2008-07-18</th>\n",
       "      <td>series-b</td>\n",
       "      <td>25000000.0</td>\n",
       "      <td>Foundry Group</td>\n",
       "    </tr>\n",
       "    <tr>\n",
       "      <th>2008-07-18</th>\n",
       "      <td>series-b</td>\n",
       "      <td>25000000.0</td>\n",
       "      <td>Institutional Venture Partners</td>\n",
       "    </tr>\n",
       "    <tr>\n",
       "      <th>2008-07-18</th>\n",
       "      <td>series-b</td>\n",
       "      <td>25000000.0</td>\n",
       "      <td>Kleiner Perkins Caufield &amp; Byers</td>\n",
       "    </tr>\n",
       "    <tr>\n",
       "      <th>2008-07-18</th>\n",
       "      <td>series-b</td>\n",
       "      <td>25000000.0</td>\n",
       "      <td>Avalon Ventures</td>\n",
       "    </tr>\n",
       "    <tr>\n",
       "      <th>2008-07-18</th>\n",
       "      <td>series-b</td>\n",
       "      <td>25000000.0</td>\n",
       "      <td>Union Square Ventures</td>\n",
       "    </tr>\n",
       "    <tr>\n",
       "      <th>2009-11-04</th>\n",
       "      <td>series-b</td>\n",
       "      <td>15187000.0</td>\n",
       "      <td>Kevin Rose</td>\n",
       "    </tr>\n",
       "    <tr>\n",
       "      <th>2009-11-04</th>\n",
       "      <td>series-b</td>\n",
       "      <td>15187000.0</td>\n",
       "      <td>Digital Sky Technologies</td>\n",
       "    </tr>\n",
       "    <tr>\n",
       "      <th>2009-11-04</th>\n",
       "      <td>series-b</td>\n",
       "      <td>15187000.0</td>\n",
       "      <td>Tiger Global Management</td>\n",
       "    </tr>\n",
       "    <tr>\n",
       "      <th>2009-11-04</th>\n",
       "      <td>series-b</td>\n",
       "      <td>15187000.0</td>\n",
       "      <td>Andreessen Horowitz</td>\n",
       "    </tr>\n",
       "    <tr>\n",
       "      <th>2009-11-04</th>\n",
       "      <td>series-b</td>\n",
       "      <td>15187000.0</td>\n",
       "      <td>Institutional Venture Partners</td>\n",
       "    </tr>\n",
       "    <tr>\n",
       "      <th>2010-06-14</th>\n",
       "      <td>series-b</td>\n",
       "      <td>300000000.0</td>\n",
       "      <td>Google</td>\n",
       "    </tr>\n",
       "    <tr>\n",
       "      <th>2010-06-14</th>\n",
       "      <td>series-b</td>\n",
       "      <td>300000000.0</td>\n",
       "      <td>SoftBank Capital</td>\n",
       "    </tr>\n",
       "    <tr>\n",
       "      <th>2011-02-18</th>\n",
       "      <td>series-c+</td>\n",
       "      <td>490000000.0</td>\n",
       "      <td>Kleiner Perkins Caufield &amp; Byers</td>\n",
       "    </tr>\n",
       "    <tr>\n",
       "      <th>2011-02-18</th>\n",
       "      <td>series-c+</td>\n",
       "      <td>490000000.0</td>\n",
       "      <td>Fidelity Investments</td>\n",
       "    </tr>\n",
       "    <tr>\n",
       "      <th>2011-02-18</th>\n",
       "      <td>series-c+</td>\n",
       "      <td>490000000.0</td>\n",
       "      <td>T. Rowe Price</td>\n",
       "    </tr>\n",
       "    <tr>\n",
       "      <th>2011-02-18</th>\n",
       "      <td>series-c+</td>\n",
       "      <td>490000000.0</td>\n",
       "      <td>Morgan Stanley</td>\n",
       "    </tr>\n",
       "  </tbody>\n",
       "</table>\n",
       "</div>"
      ],
      "text/plain": [
       "           funding_round_type  raised_amount_usd  \\\n",
       "funded_at                                          \n",
       "2007-01-01              angel                NaN   \n",
       "2008-01-01           series-a         10000000.0   \n",
       "2008-01-01           series-a         10000000.0   \n",
       "2008-01-01           series-a         10000000.0   \n",
       "2008-01-01           series-a         10000000.0   \n",
       "2008-01-01           series-a         10000000.0   \n",
       "2008-01-01           series-a         10000000.0   \n",
       "2008-01-01           series-a         10000000.0   \n",
       "2008-01-01           series-a         10000000.0   \n",
       "2008-01-01           series-a         10000000.0   \n",
       "2008-01-01           series-a         10000000.0   \n",
       "2008-01-01           series-a         10000000.0   \n",
       "2008-02-12           series-a          5026000.0   \n",
       "2008-02-12           series-a          5026000.0   \n",
       "2008-02-12           series-a          5026000.0   \n",
       "2008-07-18           series-b         25000000.0   \n",
       "2008-07-18           series-b         25000000.0   \n",
       "2008-07-18           series-b         25000000.0   \n",
       "2008-07-18           series-b         25000000.0   \n",
       "2008-07-18           series-b         25000000.0   \n",
       "2009-11-04           series-b         15187000.0   \n",
       "2009-11-04           series-b         15187000.0   \n",
       "2009-11-04           series-b         15187000.0   \n",
       "2009-11-04           series-b         15187000.0   \n",
       "2009-11-04           series-b         15187000.0   \n",
       "2010-06-14           series-b        300000000.0   \n",
       "2010-06-14           series-b        300000000.0   \n",
       "2011-02-18          series-c+        490000000.0   \n",
       "2011-02-18          series-c+        490000000.0   \n",
       "2011-02-18          series-c+        490000000.0   \n",
       "2011-02-18          series-c+        490000000.0   \n",
       "\n",
       "                               investor_name  \n",
       "funded_at                                     \n",
       "2007-01-01                      Reid Hoffman  \n",
       "2008-01-01             Union Square Ventures  \n",
       "2008-01-01                       Bob Pittman  \n",
       "2008-01-01                          SV Angel  \n",
       "2008-01-01                         Brad Feld  \n",
       "2008-01-01                       Pilot Group  \n",
       "2008-01-01                      Reid Hoffman  \n",
       "2008-01-01                     Foundry Group  \n",
       "2008-01-01                      Andy Russell  \n",
       "2008-01-01                   Clarium Capital  \n",
       "2008-01-01                   Avalon Ventures  \n",
       "2008-01-01                       Peter Thiel  \n",
       "2008-02-12                     Foundry Group  \n",
       "2008-02-12             Union Square Ventures  \n",
       "2008-02-12                   Avalon Ventures  \n",
       "2008-07-18                     Foundry Group  \n",
       "2008-07-18    Institutional Venture Partners  \n",
       "2008-07-18  Kleiner Perkins Caufield & Byers  \n",
       "2008-07-18                   Avalon Ventures  \n",
       "2008-07-18             Union Square Ventures  \n",
       "2009-11-04                        Kevin Rose  \n",
       "2009-11-04          Digital Sky Technologies  \n",
       "2009-11-04           Tiger Global Management  \n",
       "2009-11-04               Andreessen Horowitz  \n",
       "2009-11-04    Institutional Venture Partners  \n",
       "2010-06-14                            Google  \n",
       "2010-06-14                  SoftBank Capital  \n",
       "2011-02-18  Kleiner Perkins Caufield & Byers  \n",
       "2011-02-18              Fidelity Investments  \n",
       "2011-02-18                     T. Rowe Price  \n",
       "2011-02-18                    Morgan Stanley  "
      ]
     },
     "execution_count": 31,
     "metadata": {},
     "output_type": "execute_result"
    }
   ],
   "source": [
    "invest[invest.company_name == \"Zynga\"][\n",
    "    [\"funding_round_type\", \"funded_at\", \"raised_amount_usd\", \"investor_name\"]].set_index(\"funded_at\").sort_index()"
   ]
  }
 ],
 "metadata": {
  "hide_input": false,
  "jupytext": {
   "encoding": "# -*- coding: utf-8 -*-",
   "formats": "ipynb,py:percent"
  },
  "kernelspec": {
   "display_name": "Python 3",
   "language": "python",
   "name": "python3"
  },
  "language_info": {
   "codemirror_mode": {
    "name": "ipython",
    "version": 3
   },
   "file_extension": ".py",
   "mimetype": "text/x-python",
   "name": "python",
   "nbconvert_exporter": "python",
   "pygments_lexer": "ipython3",
   "version": "3.7.9"
  },
  "toc": {
   "base_numbering": 1,
   "nav_menu": {},
   "number_sections": true,
   "sideBar": true,
   "skip_h1_title": false,
   "title_cell": "Table of Contents",
   "title_sidebar": "Contents",
   "toc_cell": false,
   "toc_position": {},
   "toc_section_display": true,
   "toc_window_display": false
  },
  "varInspector": {
   "cols": {
    "lenName": 16,
    "lenType": 16,
    "lenVar": 40
   },
   "kernels_config": {
    "python": {
     "delete_cmd_postfix": "",
     "delete_cmd_prefix": "del ",
     "library": "var_list.py",
     "varRefreshCmd": "print(var_dic_list())"
    },
    "r": {
     "delete_cmd_postfix": ") ",
     "delete_cmd_prefix": "rm(",
     "library": "var_list.r",
     "varRefreshCmd": "cat(var_dic_list()) "
    }
   },
   "types_to_exclude": [
    "module",
    "function",
    "builtin_function_or_method",
    "instance",
    "_Feature"
   ],
   "window_display": false
  }
 },
 "nbformat": 4,
 "nbformat_minor": 5
}
