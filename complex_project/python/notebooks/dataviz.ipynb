{
 "cells": [
  {
   "cell_type": "code",
   "execution_count": 1,
   "id": "heated-balance",
   "metadata": {
    "ExecuteTime": {
     "end_time": "2022-06-14T21:58:25.969454Z",
     "start_time": "2022-06-14T21:58:25.272771Z"
    }
   },
   "outputs": [
    {
     "name": "stderr",
     "output_type": "stream",
     "text": [
      "/Users/victorlandeau/Library/Caches/pypoetry/virtualenvs/bootcamp-2021-01-JvUDATpG-py3.7/lib/python3.7/site-packages/pandas/compat/__init__.py:85: UserWarning: Could not import the lzma module. Your installed Python is incomplete. Attempting to use lzma compression will result in a RuntimeError.\n",
      "  warnings.warn(msg)\n",
      "/Users/victorlandeau/Library/Caches/pypoetry/virtualenvs/bootcamp-2021-01-JvUDATpG-py3.7/lib/python3.7/site-packages/pandas/compat/__init__.py:85: UserWarning: Could not import the lzma module. Your installed Python is incomplete. Attempting to use lzma compression will result in a RuntimeError.\n",
      "  warnings.warn(msg)\n"
     ]
    }
   ],
   "source": [
    "# This will import code from the refactored project\n",
    "import os.path\n",
    "import sys\n",
    "import pandas as pd\n",
    "import numpy as np\n",
    "from pilotis_io.pandas import PandasApi\n",
    "from sklearn.model_selection import train_test_split\n",
    "from catboost import CatBoostClassifier\n",
    "pd.set_option(\"display.max_columns\", 100)\n",
    "python_dir = os.path.abspath('..')\n",
    "sys.path.append(python_dir)"
   ]
  },
  {
   "cell_type": "code",
   "execution_count": 2,
   "id": "corporate-church",
   "metadata": {
    "ExecuteTime": {
     "end_time": "2022-06-14T21:58:25.976502Z",
     "start_time": "2022-06-14T21:58:25.971636Z"
    }
   },
   "outputs": [],
   "source": [
    "import bootcamp_2021_01\n",
    "from bootcamp_2021_01.domain.feature_engineering import target_definition\n",
    "from datetime import date\n",
    "from bootcamp_2021_01.domain.feature_engineering.target_definition import FAILURE_FLAG, SUCCESS_FLAG, STATUS_CLOSED_VALUE, HOMEPAGE_URL_COLUMN, FIRST_FUNDING_AT_COLUMN, CITY_COLUMN, REGION_COLUMN, COUNTRY_CODE_COLUMN, TWO_YEARS_IN_DAYS, FUNDED_AT_COLUMN, STATUS_ACQUIRED_VALUE, LEFT_JOIN_TYPE, SUCCESSFUL_SERIES_A_COLUMN, COMPANY_NAME_COLUMN, FUNDING_ROUND_CODE_COLUMN, ROUND_CODE_SERIE_A_VALUE, ROUND_CODE_SERIE_SEED_VALUE, ROUND_CODE_SERIE_B_VALUE, STATUS_IPO_VALUE, STATUS_COLUMN, NAME_COLUMN, FUNDED_AT_AS_DATE_COLUMN, _IS_ACQUIRED_COL, _HAS_NEW_FUNDING_ROUND_COL, INVESTOR_CITY_COLUMN, INVESTOR_REGION_COLUMN, INVESTOR_NAME_COLUMN, INVESTOR_COUNTRY_CODE_COLUMN"
   ]
  },
  {
   "cell_type": "code",
   "execution_count": 3,
   "id": "fundamental-cleaner",
   "metadata": {
    "ExecuteTime": {
     "end_time": "2022-06-14T21:58:25.980781Z",
     "start_time": "2022-06-14T21:58:25.978804Z"
    }
   },
   "outputs": [],
   "source": [
    "WORK_DIR = '../../workdir'\n",
    "\n",
    "MODEL_NAME = 'cat_boost'"
   ]
  },
  {
   "cell_type": "markdown",
   "id": "normal-timing",
   "metadata": {},
   "source": [
    "# Load raw data for schema discovery"
   ]
  },
  {
   "cell_type": "markdown",
   "id": "adolescent-defensive",
   "metadata": {},
   "source": [
    "## Load data"
   ]
  },
  {
   "cell_type": "code",
   "execution_count": 4,
   "id": "understanding-worship",
   "metadata": {
    "ExecuteTime": {
     "end_time": "2022-06-14T21:58:25.986842Z",
     "start_time": "2022-06-14T21:58:25.983003Z"
    }
   },
   "outputs": [],
   "source": [
    "from pilotis_io.local.local_io_api import LocalIoApi\n",
    "from pilotis_io.directory_structure import dataset_raw_dir_path"
   ]
  },
  {
   "cell_type": "code",
   "execution_count": 5,
   "id": "statewide-stable",
   "metadata": {
    "ExecuteTime": {
     "end_time": "2022-06-14T21:58:25.990648Z",
     "start_time": "2022-06-14T21:58:25.988358Z"
    }
   },
   "outputs": [],
   "source": [
    "io_api = LocalIoApi(WORK_DIR)\n",
    "pandas_api = PandasApi(io_api)"
   ]
  },
  {
   "cell_type": "code",
   "execution_count": 6,
   "id": "limiting-trout",
   "metadata": {
    "ExecuteTime": {
     "end_time": "2022-06-14T21:58:25.995232Z",
     "start_time": "2022-06-14T21:58:25.992292Z"
    }
   },
   "outputs": [],
   "source": [
    "dataset_version = '2015-12'\n",
    "\n",
    "invest_name = 'notpeter_investments'\n",
    "invest_path = dataset_raw_dir_path(invest_name, dataset_version)\n",
    "\n",
    "acq_name = 'notpeter_acquisitions'\n",
    "acq_path = dataset_raw_dir_path(acq_name, dataset_version)\n",
    "\n",
    "comp_name = 'notpeter_companies'\n",
    "comp_path = dataset_raw_dir_path(comp_name, dataset_version)"
   ]
  },
  {
   "cell_type": "code",
   "execution_count": 7,
   "id": "stock-police",
   "metadata": {
    "ExecuteTime": {
     "end_time": "2022-06-14T21:58:26.148901Z",
     "start_time": "2022-06-14T21:58:25.996861Z"
    }
   },
   "outputs": [
    {
     "ename": "NotImplementedError",
     "evalue": "",
     "output_type": "error",
     "traceback": [
      "\u001b[0;31m---------------------------------------------------------------------------\u001b[0m",
      "\u001b[0;31mNotImplementedError\u001b[0m                       Traceback (most recent call last)",
      "\u001b[0;32m<ipython-input-7-ca4703c560e3>\u001b[0m in \u001b[0;36m<module>\u001b[0;34m\u001b[0m\n\u001b[1;32m      4\u001b[0m \u001b[0;34m\u001b[0m\u001b[0m\n\u001b[1;32m      5\u001b[0m \u001b[0morga_files\u001b[0m \u001b[0;34m=\u001b[0m \u001b[0mio_api\u001b[0m\u001b[0;34m.\u001b[0m\u001b[0mlist_files_in_dir\u001b[0m\u001b[0;34m(\u001b[0m\u001b[0morga_path\u001b[0m\u001b[0;34m)\u001b[0m\u001b[0;34m\u001b[0m\u001b[0;34m\u001b[0m\u001b[0m\n\u001b[0;32m----> 6\u001b[0;31m \u001b[0morganizations\u001b[0m \u001b[0;34m=\u001b[0m \u001b[0mpandas_api\u001b[0m\u001b[0;34m.\u001b[0m\u001b[0mload_pandas_dataset\u001b[0m\u001b[0;34m(\u001b[0m\u001b[0morga_files\u001b[0m\u001b[0;34m)\u001b[0m\u001b[0;34m\u001b[0m\u001b[0;34m\u001b[0m\u001b[0m\n\u001b[0m",
      "\u001b[0;32m~/Library/Caches/pypoetry/virtualenvs/bootcamp-2021-01-JvUDATpG-py3.7/lib/python3.7/site-packages/pilotis_io/pandas.py\u001b[0m in \u001b[0;36mload_pandas_dataset\u001b[0;34m(self, relative_file_paths, *args, **kwargs)\u001b[0m\n\u001b[1;32m     18\u001b[0m         \u001b[0mself\u001b[0m\u001b[0;34m,\u001b[0m \u001b[0mrelative_file_paths\u001b[0m\u001b[0;34m:\u001b[0m \u001b[0mOptional\u001b[0m\u001b[0;34m[\u001b[0m\u001b[0mList\u001b[0m\u001b[0;34m[\u001b[0m\u001b[0mPath\u001b[0m\u001b[0;34m]\u001b[0m\u001b[0;34m]\u001b[0m\u001b[0;34m,\u001b[0m \u001b[0;34m*\u001b[0m\u001b[0margs\u001b[0m\u001b[0;34m,\u001b[0m \u001b[0;34m**\u001b[0m\u001b[0mkwargs\u001b[0m\u001b[0;34m\u001b[0m\u001b[0;34m\u001b[0m\u001b[0m\n\u001b[1;32m     19\u001b[0m     ) -> pd.DataFrame:\n\u001b[0;32m---> 20\u001b[0;31m         \u001b[0;32mraise\u001b[0m \u001b[0mNotImplementedError\u001b[0m\u001b[0;34m\u001b[0m\u001b[0;34m\u001b[0m\u001b[0m\n\u001b[0m\u001b[1;32m     21\u001b[0m \u001b[0;34m\u001b[0m\u001b[0m\n\u001b[1;32m     22\u001b[0m     \u001b[0;34m@\u001b[0m\u001b[0mabc\u001b[0m\u001b[0;34m.\u001b[0m\u001b[0mabstractmethod\u001b[0m\u001b[0;34m\u001b[0m\u001b[0;34m\u001b[0m\u001b[0m\n",
      "\u001b[0;31mNotImplementedError\u001b[0m: "
     ]
    }
   ],
   "source": [
    "dataset_version_bachelorarbeit_clean = '2013-12-cleaned'\n",
    "orga_name = 'bachelorarbeit_organizations'\n",
    "orga_path = dataset_raw_dir_path(orga_name, dataset_version_bachelorarbeit_clean)\n",
    "\n",
    "orga_files = io_api.list_files_in_dir(orga_path)\n",
    "organizations = pandas_api.load_pandas_dataset(orga_files)"
   ]
  },
  {
   "cell_type": "code",
   "execution_count": null,
   "id": "agreed-pillow",
   "metadata": {
    "ExecuteTime": {
     "end_time": "2022-06-14T21:58:26.157509Z",
     "start_time": "2022-06-14T21:58:25.283Z"
    }
   },
   "outputs": [],
   "source": [
    "invest_files = io_api.list_files_in_dir(invest_path)\n",
    "acq_files = io_api.list_files_in_dir(acq_path)\n",
    "comp_files = io_api.list_files_in_dir(comp_path)"
   ]
  },
  {
   "cell_type": "code",
   "execution_count": null,
   "id": "breathing-compatibility",
   "metadata": {
    "ExecuteTime": {
     "end_time": "2022-06-14T21:58:26.158926Z",
     "start_time": "2022-06-14T21:58:25.285Z"
    },
    "lines_to_next_cell": 2
   },
   "outputs": [],
   "source": [
    "invest = pandas_api.load_pandas_dataset(invest_files, encoding='unicode_escape')\n",
    "acq = pandas_api.load_pandas_dataset(acq_files, encoding='unicode_escape')\n",
    "companies = pandas_api.load_pandas_dataset(comp_files, encoding='unicode_escape')"
   ]
  },
  {
   "cell_type": "code",
   "execution_count": null,
   "id": "innocent-probability",
   "metadata": {
    "ExecuteTime": {
     "end_time": "2022-06-14T21:58:26.160044Z",
     "start_time": "2022-06-14T21:58:25.286Z"
    }
   },
   "outputs": [],
   "source": [
    "input_dataset_with_success_status = target_definition.add_series_a_success_status(\n",
    "    invest, acq, companies, date(2015, 12, 1))"
   ]
  },
  {
   "cell_type": "markdown",
   "id": "reverse-demonstration",
   "metadata": {},
   "source": [
    "## Model export"
   ]
  },
  {
   "cell_type": "code",
   "execution_count": null,
   "id": "noticed-genre",
   "metadata": {
    "ExecuteTime": {
     "end_time": "2022-06-14T21:58:26.160960Z",
     "start_time": "2022-06-14T21:58:25.287Z"
    }
   },
   "outputs": [],
   "source": [
    "from bootcamp_2021_01.domain.persistence.use_cases.models_persistence import UseCasesModelPersistence\n",
    "from bootcamp_2021_01.domain.use_cases import USE_CASE_NAME\n",
    "\n",
    "models_persistence = UseCasesModelPersistence(io_api, USE_CASE_NAME, MODEL_NAME)"
   ]
  },
  {
   "cell_type": "code",
   "execution_count": null,
   "id": "preliminary-formula",
   "metadata": {
    "ExecuteTime": {
     "end_time": "2022-06-14T21:58:26.162002Z",
     "start_time": "2022-06-14T21:58:25.289Z"
    }
   },
   "outputs": [],
   "source": [
    "classifier = models_persistence.load_sklearn_model(run_id='run_notebook')"
   ]
  },
  {
   "cell_type": "markdown",
   "id": "august-accommodation",
   "metadata": {},
   "source": [
    "## Model Dataviz"
   ]
  },
  {
   "cell_type": "code",
   "execution_count": null,
   "id": "younger-begin",
   "metadata": {
    "ExecuteTime": {
     "end_time": "2022-06-14T21:58:26.163050Z",
     "start_time": "2022-06-14T21:58:25.291Z"
    }
   },
   "outputs": [],
   "source": [
    "# shap_values = io_api.load_numpy_array(\"use_cases/bootcamp-2021-01/exports/shapley_values.npz\")\n",
    "\n"
   ]
  },
  {
   "cell_type": "code",
   "execution_count": null,
   "id": "statistical-filename",
   "metadata": {
    "ExecuteTime": {
     "end_time": "2022-06-14T21:58:26.164127Z",
     "start_time": "2022-06-14T21:58:25.293Z"
    }
   },
   "outputs": [],
   "source": [
    "import dash_table\n",
    "\n",
    "from bootcamp_2021_01.domain.dash_components.banner import banner\n",
    "from bootcamp_2021_01.domain.feature_engineering.feature_engineering import DAYS_SINCE_FIRST_FUNDING_COLUMN\n",
    "from bootcamp_2021_01.domain.feature_engineering.target_definition import COMPANY_NAME_COLUMN, COUNTRY_CODE_COLUMN, \\\n",
    "    CITY_COLUMN\n",
    "from bootcamp_2021_01.gui.ekilibr8_state import Ekilibr8\n",
    "\n",
    "_NAME = \"name\"\n",
    "_ID = \"id\"\n",
    "_TYPE = \"type\"\n",
    "_FORMAT = \"format\"\n",
    "\n",
    "SCORE_COLUMN = 'score'\n",
    "data_table = dash_table.DataTable(\n",
    "    id='table',\n",
    "    columns=[\n",
    "        {_NAME: 'Company Name', _ID: COMPANY_NAME_COLUMN},\n",
    "        {_NAME: 'Country', _ID: COUNTRY_CODE_COLUMN},\n",
    "        {_NAME: 'City', _ID: CITY_COLUMN},\n",
    "        {_NAME: 'Days since last funding', _ID: DAYS_SINCE_FIRST_FUNDING_COLUMN},\n",
    "        {_NAME: 'Score', _ID: SCORE_COLUMN},\n",
    "    ],\n",
    "    data={},\n",
    "    sort_action=\"native\",\n",
    ")"
   ]
  },
  {
   "cell_type": "code",
   "execution_count": null,
   "id": "functioning-lebanon",
   "metadata": {
    "ExecuteTime": {
     "end_time": "2022-06-14T21:58:26.165514Z",
     "start_time": "2022-06-14T21:58:25.296Z"
    }
   },
   "outputs": [],
   "source": [
    "id_invest_input_dataset_with_success_status = input_dataset_with_success_status[input_dataset_with_success_status['investor_name'] == 'Idinvest Partners']"
   ]
  },
  {
   "cell_type": "code",
   "execution_count": null,
   "id": "magnetic-longitude",
   "metadata": {
    "ExecuteTime": {
     "end_time": "2022-06-14T21:58:26.166717Z",
     "start_time": "2022-06-14T21:58:25.298Z"
    }
   },
   "outputs": [],
   "source": [
    "id_invest_input_dataset_with_success_status"
   ]
  },
  {
   "cell_type": "code",
   "execution_count": null,
   "id": "laden-peace",
   "metadata": {
    "ExecuteTime": {
     "end_time": "2022-06-14T21:58:26.167788Z",
     "start_time": "2022-06-14T21:58:25.299Z"
    }
   },
   "outputs": [],
   "source": [
    "time_since_first_funding = pd.to_datetime(id_invest_input_dataset_with_success_status[FUNDED_AT_AS_DATE_COLUMN]) \\\n",
    "                               - pd.to_datetime(id_invest_input_dataset_with_success_status[FIRST_FUNDING_AT_COLUMN])\n",
    "number_of_days_since_first_funding = time_since_first_funding \\\n",
    "        .apply(lambda x: x.days) \\\n",
    "        .fillna(0) \\\n",
    "        .apply(int) \\\n",
    "        .apply(lambda x: x if x >= 0 else 0)"
   ]
  },
  {
   "cell_type": "code",
   "execution_count": null,
   "id": "loaded-device",
   "metadata": {
    "ExecuteTime": {
     "end_time": "2022-06-14T21:58:26.168899Z",
     "start_time": "2022-06-14T21:58:25.300Z"
    }
   },
   "outputs": [],
   "source": [
    "type(time_since_first_funding)"
   ]
  },
  {
   "cell_type": "code",
   "execution_count": null,
   "id": "certified-silver",
   "metadata": {
    "ExecuteTime": {
     "end_time": "2022-06-14T21:58:26.169936Z",
     "start_time": "2022-06-14T21:58:25.302Z"
    }
   },
   "outputs": [],
   "source": [
    "number_of_days_since_first_funding"
   ]
  },
  {
   "cell_type": "code",
   "execution_count": null,
   "id": "ceramic-relaxation",
   "metadata": {
    "ExecuteTime": {
     "end_time": "2022-06-14T21:58:26.171003Z",
     "start_time": "2022-06-14T21:58:25.303Z"
    }
   },
   "outputs": [],
   "source": [
    "VC_NAME = \"Idinvest Partners\""
   ]
  },
  {
   "cell_type": "code",
   "execution_count": null,
   "id": "young-reserve",
   "metadata": {
    "ExecuteTime": {
     "end_time": "2022-06-14T21:58:26.172020Z",
     "start_time": "2022-06-14T21:58:25.304Z"
    }
   },
   "outputs": [],
   "source": [
    "from bootcamp_2021_01.domain.feature_engineering.feature_engineering import DAYS_SINCE_FIRST_FUNDING_COLUMN, \\\n",
    "    INVESTOR_EXPERIENCE_COLUMN, COUNTRY_CODE_COLUMN"
   ]
  },
  {
   "cell_type": "code",
   "execution_count": null,
   "id": "ready-concern",
   "metadata": {
    "ExecuteTime": {
     "end_time": "2022-06-14T21:58:26.173223Z",
     "start_time": "2022-06-14T21:58:25.306Z"
    }
   },
   "outputs": [],
   "source": [
    "model = models_persistence.load_sklearn_model(run_id='run_notebook')"
   ]
  },
  {
   "cell_type": "code",
   "execution_count": null,
   "id": "endless-constraint",
   "metadata": {
    "ExecuteTime": {
     "end_time": "2022-06-14T21:58:26.174207Z",
     "start_time": "2022-06-14T21:58:25.307Z"
    }
   },
   "outputs": [],
   "source": [
    "vc_coutry_scope = id_invest_input_dataset_with_success_status[COUNTRY_CODE_COLUMN].unique()"
   ]
  },
  {
   "cell_type": "code",
   "execution_count": null,
   "id": "electrical-edinburgh",
   "metadata": {
    "ExecuteTime": {
     "end_time": "2022-06-14T21:58:26.175307Z",
     "start_time": "2022-06-14T21:58:25.309Z"
    }
   },
   "outputs": [],
   "source": [
    "vc_scope = input_dataset_with_success_status[input_dataset_with_success_status[COUNTRY_CODE_COLUMN].isin(vc_coutry_scope)]"
   ]
  },
  {
   "cell_type": "code",
   "execution_count": null,
   "id": "linear-cancellation",
   "metadata": {
    "ExecuteTime": {
     "end_time": "2022-06-14T21:58:26.176287Z",
     "start_time": "2022-06-14T21:58:25.311Z"
    }
   },
   "outputs": [],
   "source": [
    "from bootcamp_2021_01.domain.feature_engineering import feature_engineering\n",
    "\n",
    "model_input, reality, company_name = feature_engineering.prepare_inputs_for_machine_learning(vc_scope, organizations)"
   ]
  },
  {
   "cell_type": "code",
   "execution_count": null,
   "id": "polish-effort",
   "metadata": {
    "ExecuteTime": {
     "end_time": "2022-06-14T21:58:26.177456Z",
     "start_time": "2022-06-14T21:58:25.313Z"
    }
   },
   "outputs": [],
   "source": [
    "only_this_vc = model_input[model_input[INVESTOR_EXPERIENCE_COLUMN] == VC_NAME]\n",
    "\n",
    "model_input[INVESTOR_EXPERIENCE_COLUMN] = VC_NAME\n",
    "model_input[INVESTOR_CITY_COLUMN] = only_this_vc[INVESTOR_CITY_COLUMN].iloc[0]\n",
    "model_input[INVESTOR_REGION_COLUMN] = only_this_vc[INVESTOR_REGION_COLUMN].iloc[0]\n",
    "model_input[INVESTOR_COUNTRY_CODE_COLUMN] = only_this_vc[INVESTOR_COUNTRY_CODE_COLUMN].iloc[0]"
   ]
  },
  {
   "cell_type": "code",
   "execution_count": null,
   "id": "linear-blowing",
   "metadata": {},
   "outputs": [],
   "source": []
  },
  {
   "cell_type": "code",
   "execution_count": null,
   "id": "serial-biology",
   "metadata": {
    "ExecuteTime": {
     "end_time": "2022-06-14T21:58:26.178444Z",
     "start_time": "2022-06-14T21:58:25.315Z"
    }
   },
   "outputs": [],
   "source": [
    "predictions = model.predict_proba(model_input)\n",
    "success_proba = pd.DataFrame(predictions)[1]\n",
    "\n",
    "scores = model_input \\\n",
    "    .reset_index() \\\n",
    "    .assign(score=success_proba,\n",
    "            reality=reality.reset_index()[SUCCESSFUL_SERIES_A_COLUMN],\n",
    "            company_name=company_name.reset_index()[COMPANY_NAME_COLUMN]) \\\n",
    "    .drop('index', axis=1)"
   ]
  },
  {
   "cell_type": "code",
   "execution_count": null,
   "id": "special-romantic",
   "metadata": {
    "ExecuteTime": {
     "end_time": "2022-06-14T21:58:26.179449Z",
     "start_time": "2022-06-14T21:58:25.316Z"
    }
   },
   "outputs": [],
   "source": [
    "scores.columns"
   ]
  },
  {
   "cell_type": "code",
   "execution_count": null,
   "id": "retired-equivalent",
   "metadata": {
    "ExecuteTime": {
     "end_time": "2022-06-14T21:58:26.180589Z",
     "start_time": "2022-06-14T21:58:25.318Z"
    }
   },
   "outputs": [],
   "source": [
    "graph_dataframe = id_invest_input_dataset_with_success_status.set_index(\"company_name\", drop=False).join(scores.drop_duplicates(\"company_name\").set_index(\"company_name\")[['score']])"
   ]
  },
  {
   "cell_type": "code",
   "execution_count": null,
   "id": "immune-beatles",
   "metadata": {
    "ExecuteTime": {
     "end_time": "2022-06-14T21:58:26.181692Z",
     "start_time": "2022-06-14T21:58:25.319Z"
    }
   },
   "outputs": [],
   "source": [
    "def define_color(score):\n",
    "    if score >= 0.75:\n",
    "        return 'green'\n",
    "    elif score >= 0.5:\n",
    "        return 'orange'\n",
    "    else:\n",
    "        return 'red'\n",
    "        \n"
   ]
  },
  {
   "cell_type": "code",
   "execution_count": null,
   "id": "abstract-assets",
   "metadata": {
    "ExecuteTime": {
     "end_time": "2022-06-14T21:58:26.182770Z",
     "start_time": "2022-06-14T21:58:25.320Z"
    }
   },
   "outputs": [],
   "source": [
    "graph_dataframe_with_color = graph_dataframe.assign(score_color=graph_dataframe['score'].apply(define_color))"
   ]
  },
  {
   "cell_type": "code",
   "execution_count": null,
   "id": "quarterly-nirvana",
   "metadata": {
    "ExecuteTime": {
     "end_time": "2022-06-14T21:58:26.183825Z",
     "start_time": "2022-06-14T21:58:25.322Z"
    }
   },
   "outputs": [],
   "source": [
    "import plotly.graph_objects as go\n",
    "\n",
    "fig = go.Figure(data=[go.Table(header=dict(values=['Company Name', 'Country', 'City', 'Success', 'Scores']),\n",
    "                 cells=dict(values=[\n",
    "                     graph_dataframe['company_name'],\n",
    "                                    graph_dataframe['country_code'],\n",
    "                                    graph_dataframe['city'],\n",
    "                                    graph_dataframe['successful_series_a'],\n",
    "                                    graph_dataframe['score'].apply(lambda s: str(round(s * 100)) + \"%\")\n",
    "                                   ],\n",
    "                            fill=dict(color=[\n",
    "                                'rgba(256,256,256,1)',\n",
    "                                'rgba(256,256,256,1)',\n",
    "                                'rgba(256,256,256,1)',\n",
    "                                'rgba(256,256,256,1)',\n",
    "                                graph_dataframe_with_color['score_color'],\n",
    "                            ])\n",
    "                           ))\n",
    "                     ])\n",
    "fig.show()"
   ]
  },
  {
   "cell_type": "code",
   "execution_count": null,
   "id": "apparent-lobby",
   "metadata": {},
   "outputs": [],
   "source": []
  },
  {
   "cell_type": "code",
   "execution_count": null,
   "id": "signal-reduction",
   "metadata": {},
   "outputs": [],
   "source": []
  }
 ],
 "metadata": {
  "hide_input": false,
  "jupytext": {
   "encoding": "# -*- coding: utf-8 -*-",
   "formats": "ipynb,py:percent",
   "text_representation": {
    "extension": ".py",
    "format_name": "percent",
    "format_version": "1.3",
    "jupytext_version": "1.9.1"
   }
  },
  "kernelspec": {
   "display_name": "Python 3",
   "language": "python",
   "name": "python3"
  },
  "language_info": {
   "codemirror_mode": {
    "name": "ipython",
    "version": 3
   },
   "file_extension": ".py",
   "mimetype": "text/x-python",
   "name": "python",
   "nbconvert_exporter": "python",
   "pygments_lexer": "ipython3",
   "version": "3.7.9"
  },
  "toc": {
   "base_numbering": 1,
   "nav_menu": {},
   "number_sections": true,
   "sideBar": true,
   "skip_h1_title": false,
   "title_cell": "Table of Contents",
   "title_sidebar": "Contents",
   "toc_cell": false,
   "toc_position": {},
   "toc_section_display": true,
   "toc_window_display": false
  },
  "varInspector": {
   "cols": {
    "lenName": 16,
    "lenType": 16,
    "lenVar": 40
   },
   "kernels_config": {
    "python": {
     "delete_cmd_postfix": "",
     "delete_cmd_prefix": "del ",
     "library": "var_list.py",
     "varRefreshCmd": "print(var_dic_list())"
    },
    "r": {
     "delete_cmd_postfix": ") ",
     "delete_cmd_prefix": "rm(",
     "library": "var_list.r",
     "varRefreshCmd": "cat(var_dic_list()) "
    }
   },
   "types_to_exclude": [
    "module",
    "function",
    "builtin_function_or_method",
    "instance",
    "_Feature"
   ],
   "window_display": false
  }
 },
 "nbformat": 4,
 "nbformat_minor": 5
}
